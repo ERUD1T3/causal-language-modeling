{
 "cells": [
  {
   "attachments": {},
   "cell_type": "markdown",
   "metadata": {},
   "source": [
    "#### Project 3 and Paper\n",
    "We are investigating the ability of a Transformer based model like facebook OPT model to understand poetry and rap lyrics to then write peotic raps\n",
    "Training in a self supervised fashion"
   ]
  },
  {
   "cell_type": "code",
   "execution_count": 1,
   "metadata": {},
   "outputs": [],
   "source": [
    "poetry_path = './data/poetry/poetry.csv'\n",
    "lyrics_path = './data/lyrics/lyrics'"
   ]
  },
  {
   "cell_type": "code",
   "execution_count": null,
   "metadata": {},
   "outputs": [],
   "source": [
    "# imports\n",
    "import json\n",
    "import matplotlib.pyplot as plt\n",
    "import numpy as np\n",
    "# import seaborn as sns\n",
    "import tensorflow as tf\n",
    "import tensorflow_addons as tfa\n",
    "from tqdm import tqdm\n",
    "from tensorflow.keras import Model\n",
    "from tensorflow.keras.layers import Input\n",
    "from tensorflow.keras.layers import Dense\n",
    "from tensorflow.keras.layers import Dropout\n",
    "from tensorflow.keras.layers import Flatten\n",
    "from tensorflow.keras.optimizers import Adam\n",
    "from tensorflow.keras.losses import CategoricalCrossentropy\n",
    "from tensorflow.keras.initializers import GlorotNormal\n",
    "from tensorflow.strings import regex_replace\n",
    "from transformers import AutoTokenizer\n",
    "from transformers import TFAutoModelForCausalLM"
   ]
  },
  {
   "cell_type": "code",
   "execution_count": null,
   "metadata": {},
   "outputs": [],
   "source": [
    "# make generator for the poetry dataset\n",
    "poetry_gen = poetry_generator(poetry_path)\n",
    "lyrics_gen = lyrics_generator(lyrics_path)"
   ]
  }
 ],
 "metadata": {
  "kernelspec": {
   "display_name": "tf-gpu",
   "language": "python",
   "name": "python3"
  },
  "language_info": {
   "codemirror_mode": {
    "name": "ipython",
    "version": 3
   },
   "file_extension": ".py",
   "mimetype": "text/x-python",
   "name": "python",
   "nbconvert_exporter": "python",
   "pygments_lexer": "ipython3",
   "version": "3.9.15"
  },
  "orig_nbformat": 4,
  "vscode": {
   "interpreter": {
    "hash": "248d42be7c44ee8282c278444327b72294a65bb1209edb41c57e3d849342db5a"
   }
  }
 },
 "nbformat": 4,
 "nbformat_minor": 2
}
