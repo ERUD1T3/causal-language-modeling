{
 "cells": [
  {
   "cell_type": "markdown",
   "metadata": {},
   "source": [
    "### CSE 5320 Neural Networks Project 3 with Paper\n",
    "#### Report (with Code)\n",
    "Josias Moukpe\\\n",
    "12/10/2022\n",
    "\n",
    "#### Introduction\n",
    "Text Generation is a branch of Natural Language Processing (NLP) that predicts the\n",
    "next most likely word given all the previous words. State of the art in Text Generation\n",
    "has recently been the domain of Language Models based on Transformers pretrained\n",
    "on large corpora of text data from various sources on the internet. These pretrained\n",
    "generative transformers are often fine-tuned on a downstream dataset for a\n",
    "downstream task of interest. This project aims to develop a generative language model\n",
    "based on a pretrained language transformer fine-tuned on our two chosen datasets:\n",
    "Merve-Poetry [1] and Rap Lyrics US [2]. We want to obtain a fine-tuned model that can\n",
    "generate original English poetry given an initial prompt and another that can generate\n",
    "original rap lyrics inspired by the styles of contemporary rappers. Both datasets contain\n",
    "English text from various authors and will be processed to extract the bags of words.\n",
    "Those words will then be converted to a designated embedding before being ingested\n",
    "by the generative model during fine-tuning. The pretrained model will be obtained from\n",
    "the Hugging Face library of generative models for English text.\n",
    "Merve Poetry contains renaissance and modern poetries from subjects such as Love,\n",
    "Nature, Mythology, and Folklore. The dataset is organized into 5 table columns: the\n",
    "poem's content, author, age, and subject type. Rap Lyrics US contains text documents\n",
    "organized by artists. Each text document includes lyrics from the corresponding artist.\n",
    "The final models will take an initial sequence of words (prompt) and generate a\n",
    "sequence from an original poem and rap song.\n",
    "\n",
    "#### Problem\n",
    "\n",
    "\n",
    "#### Methodology\n",
    "\n",
    "\n",
    "#### Benchmarking\n",
    "\n",
    "\n",
    "#### Conclusion\n",
    "\n",
    "\n",
    "\n",
    "References\\\n",
    "[1] https://huggingface.co/datasets/merve/poetry/viewer/merve--poetry/train\\\n",
    "[2] https://github.com/fpaupier/RapLyrics-Scraper/tree/master/lyrics_US\\\n",
    "[3]https://huggingface.co/models?language=en&library=tf&pipeline_tag=text-generation&sort=downloads\\\n",
    "[3] https://www.projectpro.io/recipes/what-is-causal-language-modeling-transformers\\\n",
    "[4] https://towardsdatascience.com/understanding-masked-language-models-mlm-and-causal-language-models-clm-in-nlp-194c15f56a5\\\n",
    "[5] https://github.com/christianversloot/machine-learning-articles/blob/main/easy-causal-language-modeling-with-machine-learning-and-huggingface-transformers.md"
   ]
  },
  {
   "cell_type": "markdown",
   "metadata": {},
   "source": [
    "#### Remote Training Environment Setup"
   ]
  },
  {
   "cell_type": "code",
   "execution_count": 1,
   "metadata": {
    "execution": {
     "iopub.execute_input": "2022-12-12T04:24:23.937162Z",
     "iopub.status.busy": "2022-12-12T04:24:23.936571Z",
     "iopub.status.idle": "2022-12-12T04:24:31.032519Z",
     "shell.execute_reply": "2022-12-12T04:24:31.031895Z",
     "shell.execute_reply.started": "2022-12-12T04:24:23.937098Z"
    }
   },
   "outputs": [
    {
     "name": "stdout",
     "output_type": "stream",
     "text": [
      "Collecting tensorflow_addons\n",
      "  Downloading tensorflow_addons-0.19.0-cp39-cp39-manylinux_2_17_x86_64.manylinux2014_x86_64.whl (1.1 MB)\n",
      "\u001b[2K     \u001b[90m━━━━━━━━━━━━━━━━━━━━━━━━━━━━━━━━━━━━━━━━\u001b[0m \u001b[32m1.1/1.1 MB\u001b[0m \u001b[31m68.3 MB/s\u001b[0m eta \u001b[36m0:00:00\u001b[0m\n",
      "\u001b[?25hRequirement already satisfied: packaging in /usr/local/lib/python3.9/dist-packages (from tensorflow_addons) (21.3)\n",
      "Collecting typeguard>=2.7\n",
      "  Downloading typeguard-2.13.3-py3-none-any.whl (17 kB)\n",
      "Requirement already satisfied: pyparsing!=3.0.5,>=2.0.2 in /usr/local/lib/python3.9/dist-packages (from packaging->tensorflow_addons) (3.0.9)\n",
      "Installing collected packages: typeguard, tensorflow_addons\n",
      "Successfully installed tensorflow_addons-0.19.0 typeguard-2.13.3\n",
      "\u001b[33mWARNING: Running pip as the 'root' user can result in broken permissions and conflicting behaviour with the system package manager. It is recommended to use a virtual environment instead: https://pip.pypa.io/warnings/venv\u001b[0m\u001b[33m\n",
      "\u001b[0mNote: you may need to restart the kernel to use updated packages.\n",
      "Requirement already satisfied: transformers in /usr/local/lib/python3.9/dist-packages (4.20.1)\n",
      "Requirement already satisfied: filelock in /usr/local/lib/python3.9/dist-packages (from transformers) (3.7.1)\n",
      "Requirement already satisfied: tqdm>=4.27 in /usr/local/lib/python3.9/dist-packages (from transformers) (4.64.0)\n",
      "Requirement already satisfied: requests in /usr/local/lib/python3.9/dist-packages (from transformers) (2.28.1)\n",
      "Requirement already satisfied: pyyaml>=5.1 in /usr/local/lib/python3.9/dist-packages (from transformers) (5.4.1)\n",
      "Requirement already satisfied: tokenizers!=0.11.3,<0.13,>=0.11.1 in /usr/local/lib/python3.9/dist-packages (from transformers) (0.12.1)\n",
      "Requirement already satisfied: numpy>=1.17 in /usr/local/lib/python3.9/dist-packages (from transformers) (1.23.1)\n",
      "Requirement already satisfied: packaging>=20.0 in /usr/local/lib/python3.9/dist-packages (from transformers) (21.3)\n",
      "Requirement already satisfied: huggingface-hub<1.0,>=0.1.0 in /usr/local/lib/python3.9/dist-packages (from transformers) (0.8.1)\n",
      "Requirement already satisfied: regex!=2019.12.17 in /usr/local/lib/python3.9/dist-packages (from transformers) (2022.7.9)\n",
      "Requirement already satisfied: typing-extensions>=3.7.4.3 in /usr/local/lib/python3.9/dist-packages (from huggingface-hub<1.0,>=0.1.0->transformers) (4.3.0)\n",
      "Requirement already satisfied: pyparsing!=3.0.5,>=2.0.2 in /usr/local/lib/python3.9/dist-packages (from packaging>=20.0->transformers) (3.0.9)\n",
      "Requirement already satisfied: urllib3<1.27,>=1.21.1 in /usr/local/lib/python3.9/dist-packages (from requests->transformers) (1.26.10)\n",
      "Requirement already satisfied: charset-normalizer<3,>=2 in /usr/local/lib/python3.9/dist-packages (from requests->transformers) (2.1.0)\n",
      "Requirement already satisfied: certifi>=2017.4.17 in /usr/lib/python3/dist-packages (from requests->transformers) (2019.11.28)\n",
      "Requirement already satisfied: idna<4,>=2.5 in /usr/lib/python3/dist-packages (from requests->transformers) (2.8)\n",
      "\u001b[33mWARNING: Running pip as the 'root' user can result in broken permissions and conflicting behaviour with the system package manager. It is recommended to use a virtual environment instead: https://pip.pypa.io/warnings/venv\u001b[0m\u001b[33m\n",
      "\u001b[0mNote: you may need to restart the kernel to use updated packages.\n",
      "Requirement already satisfied: datasets in /usr/local/lib/python3.9/dist-packages (2.3.2)\n",
      "Collecting datasets\n",
      "  Downloading datasets-2.7.1-py3-none-any.whl (451 kB)\n",
      "\u001b[2K     \u001b[90m━━━━━━━━━━━━━━━━━━━━━━━━━━━━━━━━━━━━━━\u001b[0m \u001b[32m451.7/451.7 kB\u001b[0m \u001b[31m37.2 MB/s\u001b[0m eta \u001b[36m0:00:00\u001b[0m\n",
      "\u001b[?25hRequirement already satisfied: pyyaml>=5.1 in /usr/local/lib/python3.9/dist-packages (from datasets) (5.4.1)\n",
      "Requirement already satisfied: packaging in /usr/local/lib/python3.9/dist-packages (from datasets) (21.3)\n",
      "Requirement already satisfied: responses<0.19 in /usr/local/lib/python3.9/dist-packages (from datasets) (0.18.0)\n",
      "Requirement already satisfied: aiohttp in /usr/local/lib/python3.9/dist-packages (from datasets) (3.8.1)\n",
      "Requirement already satisfied: dill<0.3.7 in /usr/local/lib/python3.9/dist-packages (from datasets) (0.3.5.1)\n",
      "Requirement already satisfied: numpy>=1.17 in /usr/local/lib/python3.9/dist-packages (from datasets) (1.23.1)\n",
      "Requirement already satisfied: requests>=2.19.0 in /usr/local/lib/python3.9/dist-packages (from datasets) (2.28.1)\n",
      "Requirement already satisfied: xxhash in /usr/local/lib/python3.9/dist-packages (from datasets) (3.0.0)\n",
      "Requirement already satisfied: multiprocess in /usr/local/lib/python3.9/dist-packages (from datasets) (0.70.13)\n",
      "Requirement already satisfied: pyarrow>=6.0.0 in /usr/local/lib/python3.9/dist-packages (from datasets) (8.0.0)\n",
      "Requirement already satisfied: huggingface-hub<1.0.0,>=0.2.0 in /usr/local/lib/python3.9/dist-packages (from datasets) (0.8.1)\n",
      "Requirement already satisfied: pandas in /usr/local/lib/python3.9/dist-packages (from datasets) (1.4.3)\n",
      "Requirement already satisfied: tqdm>=4.62.1 in /usr/local/lib/python3.9/dist-packages (from datasets) (4.64.0)\n",
      "Requirement already satisfied: fsspec[http]>=2021.11.1 in /usr/local/lib/python3.9/dist-packages (from datasets) (2022.5.0)\n",
      "Requirement already satisfied: filelock in /usr/local/lib/python3.9/dist-packages (from huggingface-hub<1.0.0,>=0.2.0->datasets) (3.7.1)\n",
      "Requirement already satisfied: typing-extensions>=3.7.4.3 in /usr/local/lib/python3.9/dist-packages (from huggingface-hub<1.0.0,>=0.2.0->datasets) (4.3.0)\n",
      "Requirement already satisfied: pyparsing!=3.0.5,>=2.0.2 in /usr/local/lib/python3.9/dist-packages (from packaging->datasets) (3.0.9)\n",
      "Requirement already satisfied: urllib3<1.27,>=1.21.1 in /usr/local/lib/python3.9/dist-packages (from requests>=2.19.0->datasets) (1.26.10)\n",
      "Requirement already satisfied: idna<4,>=2.5 in /usr/lib/python3/dist-packages (from requests>=2.19.0->datasets) (2.8)\n",
      "Requirement already satisfied: certifi>=2017.4.17 in /usr/lib/python3/dist-packages (from requests>=2.19.0->datasets) (2019.11.28)\n",
      "Requirement already satisfied: charset-normalizer<3,>=2 in /usr/local/lib/python3.9/dist-packages (from requests>=2.19.0->datasets) (2.1.0)\n",
      "Requirement already satisfied: attrs>=17.3.0 in /usr/local/lib/python3.9/dist-packages (from aiohttp->datasets) (18.2.0)\n",
      "Requirement already satisfied: async-timeout<5.0,>=4.0.0a3 in /usr/local/lib/python3.9/dist-packages (from aiohttp->datasets) (4.0.2)\n",
      "Requirement already satisfied: multidict<7.0,>=4.5 in /usr/local/lib/python3.9/dist-packages (from aiohttp->datasets) (6.0.2)\n",
      "Requirement already satisfied: yarl<2.0,>=1.0 in /usr/local/lib/python3.9/dist-packages (from aiohttp->datasets) (1.7.2)\n",
      "Requirement already satisfied: frozenlist>=1.1.1 in /usr/local/lib/python3.9/dist-packages (from aiohttp->datasets) (1.3.0)\n",
      "Requirement already satisfied: aiosignal>=1.1.2 in /usr/local/lib/python3.9/dist-packages (from aiohttp->datasets) (1.2.0)\n",
      "Requirement already satisfied: pytz>=2020.1 in /usr/local/lib/python3.9/dist-packages (from pandas->datasets) (2022.1)\n",
      "Requirement already satisfied: python-dateutil>=2.8.1 in /usr/local/lib/python3.9/dist-packages (from pandas->datasets) (2.8.2)\n",
      "Requirement already satisfied: six>=1.5 in /usr/lib/python3/dist-packages (from python-dateutil>=2.8.1->pandas->datasets) (1.14.0)\n",
      "Installing collected packages: datasets\n",
      "  Attempting uninstall: datasets\n",
      "    Found existing installation: datasets 2.3.2\n",
      "    Uninstalling datasets-2.3.2:\n",
      "      Successfully uninstalled datasets-2.3.2\n",
      "Successfully installed datasets-2.7.1\n",
      "\u001b[33mWARNING: Running pip as the 'root' user can result in broken permissions and conflicting behaviour with the system package manager. It is recommended to use a virtual environment instead: https://pip.pypa.io/warnings/venv\u001b[0m\u001b[33m\n",
      "\u001b[0mNote: you may need to restart the kernel to use updated packages.\n"
     ]
    }
   ],
   "source": [
    "%pip install tensorflow_addons\n",
    "%pip install transformers\n",
    "%pip install datasets --upgrade"
   ]
  },
  {
   "cell_type": "code",
   "execution_count": 2,
   "metadata": {
    "execution": {
     "iopub.execute_input": "2022-12-12T04:24:31.034303Z",
     "iopub.status.busy": "2022-12-12T04:24:31.034124Z",
     "iopub.status.idle": "2022-12-12T04:24:35.180469Z",
     "shell.execute_reply": "2022-12-12T04:24:35.179910Z",
     "shell.execute_reply.started": "2022-12-12T04:24:31.034286Z"
    }
   },
   "outputs": [],
   "source": [
    "# imports\n",
    "import json\n",
    "import pandas as pd\n",
    "import matplotlib.pyplot as plt\n",
    "import numpy as np\n",
    "import math\n",
    "import tensorflow as tf\n",
    "from tensorflow_addons.optimizers import CyclicalLearningRate\n",
    "from tensorflow_addons.optimizers import AdamW\n",
    "from tqdm import tqdm\n",
    "from tensorflow.keras import Model\n",
    "from tensorflow.keras.layers import Input\n",
    "from tensorflow.keras.layers import Dense\n",
    "from tensorflow.keras.layers import Dropout\n",
    "from tensorflow.keras.layers import Layer\n",
    "from tensorflow.keras.losses import CategoricalCrossentropy\n",
    "from tensorflow.keras.initializers import TruncatedNormal\n",
    "from tensorflow.keras.callbacks import EarlyStopping, ModelCheckpoint\n",
    "from tensorflow.keras.callbacks import ReduceLROnPlateau\n",
    "from tensorflow.strings import regex_replace\n",
    "from transformers import AutoTokenizer\n",
    "from transformers import TFOPTForCausalLM, TFAutoModelForCausalLM\n",
    "from transformers import AutoConfig, OPTConfig\n",
    "from transformers import tf_top_k_top_p_filtering\n",
    "from transformers import DefaultDataCollator\n",
    "# from transformers import TFTrainingArguments, TFTrainer\n",
    "from datasets import Dataset, DatasetDict"
   ]
  },
  {
   "cell_type": "code",
   "execution_count": 3,
   "metadata": {
    "execution": {
     "iopub.execute_input": "2022-12-12T04:24:35.181588Z",
     "iopub.status.busy": "2022-12-12T04:24:35.181215Z",
     "iopub.status.idle": "2022-12-12T04:24:35.188495Z",
     "shell.execute_reply": "2022-12-12T04:24:35.187993Z",
     "shell.execute_reply.started": "2022-12-12T04:24:35.181569Z"
    }
   },
   "outputs": [
    {
     "data": {
      "text/plain": [
       "[PhysicalDevice(name='/physical_device:GPU:0', device_type='GPU')]"
      ]
     },
     "execution_count": 3,
     "metadata": {},
     "output_type": "execute_result"
    }
   ],
   "source": [
    "# gpu\n",
    "tf.config.list_physical_devices('GPU')\n"
   ]
  },
  {
   "cell_type": "markdown",
   "metadata": {},
   "source": [
    "#### Hyperparams"
   ]
  },
  {
   "cell_type": "code",
   "execution_count": 4,
   "metadata": {
    "execution": {
     "iopub.execute_input": "2022-12-12T04:24:35.190376Z",
     "iopub.status.busy": "2022-12-12T04:24:35.189861Z",
     "iopub.status.idle": "2022-12-12T04:24:35.193463Z",
     "shell.execute_reply": "2022-12-12T04:24:35.192968Z",
     "shell.execute_reply.started": "2022-12-12T04:24:35.190358Z"
    }
   },
   "outputs": [],
   "source": [
    "MODEL = 'facebook/opt-350m'\n",
    "# consts\n",
    "OPT_DROPOUT = 0.1\n",
    "OPT_ATT_DROPOUT = 0.1\n",
    "LAYER_DROPOUT = 0.1\n",
    "CLIP_NORM = 1.0\n",
    "\n",
    "MAX_LEN = 2048\n",
    "CONTEXT_LEN = 128 \n",
    "BATCH_SIZE = 32 # 48 on gradient  \n",
    "INIT_LR = 9e-9\n",
    "MAX_LR = 1e-7\n",
    "BETA1 = 0.9\n",
    "BETA2 = 0.95\n",
    "WEIGHT_DECAY = 0.1\n",
    "W_INIT_MEAN = 0.0\n",
    "W_INIT_STDDEV = 0.006\n",
    "B_INIT_VALUE = 0.0\n",
    "\n",
    "RANDOM_SEED = 42\n",
    "NUM_EPOCHS = 5\n",
    "TOP_K = 50"
   ]
  },
  {
   "cell_type": "code",
   "execution_count": 5,
   "metadata": {
    "execution": {
     "iopub.execute_input": "2022-12-12T04:24:35.194347Z",
     "iopub.status.busy": "2022-12-12T04:24:35.194193Z",
     "iopub.status.idle": "2022-12-12T04:24:35.197506Z",
     "shell.execute_reply": "2022-12-12T04:24:35.196829Z",
     "shell.execute_reply.started": "2022-12-12T04:24:35.194334Z"
    }
   },
   "outputs": [],
   "source": [
    "# poems dataset\n",
    "POEMS_CARDINALITY = 1818\n",
    "POEMS_MAX_LEN = 677\n",
    "POEMS_TRAIN_SAMPLES = 1468\n",
    "POEMS_VAL_SAMPLES = 165\n",
    "POEMS_TEST_SAMPLES = 185\n",
    "\n",
    "STEP_PER_EPOCH = POEMS_TRAIN_SAMPLES // BATCH_SIZE\n",
    "STEP_PER_VAL = POEMS_VAL_SAMPLES // BATCH_SIZE\n",
    "STEP_PER_TEST = POEMS_TEST_SAMPLES // BATCH_SIZE"
   ]
  },
  {
   "cell_type": "code",
   "execution_count": 6,
   "metadata": {
    "execution": {
     "iopub.execute_input": "2022-12-12T04:24:35.198250Z",
     "iopub.status.busy": "2022-12-12T04:24:35.198089Z",
     "iopub.status.idle": "2022-12-12T04:24:35.201387Z",
     "shell.execute_reply": "2022-12-12T04:24:35.200807Z",
     "shell.execute_reply.started": "2022-12-12T04:24:35.198236Z"
    }
   },
   "outputs": [],
   "source": [
    "# define cyclic learning rate\n",
    "CLR = CyclicalLearningRate(\n",
    "    initial_learning_rate=INIT_LR,\n",
    "    maximal_learning_rate=MAX_LR,\n",
    "    scale_fn=lambda x: 1/(2.** (x - 1)),\n",
    "    step_size=2 * STEP_PER_EPOCH,\n",
    "    scale_mode='cycle'\n",
    ")"
   ]
  },
  {
   "cell_type": "code",
   "execution_count": 7,
   "metadata": {
    "execution": {
     "iopub.execute_input": "2022-12-12T04:24:35.202167Z",
     "iopub.status.busy": "2022-12-12T04:24:35.202010Z",
     "iopub.status.idle": "2022-12-12T04:24:35.205408Z",
     "shell.execute_reply": "2022-12-12T04:24:35.204880Z",
     "shell.execute_reply.started": "2022-12-12T04:24:35.202154Z"
    }
   },
   "outputs": [],
   "source": [
    "# define optimizer\n",
    "OPTIM = AdamW(\n",
    "    learning_rate= .01,#CLR,\n",
    "    beta_1=BETA1,\n",
    "    beta_2=BETA2,\n",
    "    weight_decay=WEIGHT_DECAY,\n",
    "    clipnorm=CLIP_NORM\n",
    ")"
   ]
  },
  {
   "cell_type": "code",
   "execution_count": 8,
   "metadata": {
    "execution": {
     "iopub.execute_input": "2022-12-12T04:24:35.206215Z",
     "iopub.status.busy": "2022-12-12T04:24:35.206066Z",
     "iopub.status.idle": "2022-12-12T04:24:35.209172Z",
     "shell.execute_reply": "2022-12-12T04:24:35.208583Z",
     "shell.execute_reply.started": "2022-12-12T04:24:35.206201Z"
    }
   },
   "outputs": [],
   "source": [
    "initializer = TruncatedNormal(\n",
    "    mean=W_INIT_MEAN,\n",
    "    stddev=W_INIT_STDDEV,\n",
    "    seed=RANDOM_SEED\n",
    ")"
   ]
  },
  {
   "cell_type": "code",
   "execution_count": 9,
   "metadata": {
    "execution": {
     "iopub.execute_input": "2022-12-12T04:24:35.209857Z",
     "iopub.status.busy": "2022-12-12T04:24:35.209715Z",
     "iopub.status.idle": "2022-12-12T04:24:35.213093Z",
     "shell.execute_reply": "2022-12-12T04:24:35.212516Z",
     "shell.execute_reply.started": "2022-12-12T04:24:35.209844Z"
    }
   },
   "outputs": [],
   "source": [
    "CALLBACKS = [\n",
    "    # EarlyStopping(\n",
    "    #     monitor='val_accuracy', \n",
    "    #     patience=6,\n",
    "    #     restore_best_weights=True\n",
    "    # ),\n",
    "    # ModelCheckpoint(\n",
    "    #     filepath='./models/poet/poet',\n",
    "    #     monitor='val_accuracy',\n",
    "    #     save_best_only=True,\n",
    "    #     save_weights_only=True,\n",
    "    #     mode='max'\n",
    "    # ),\n",
    "    ReduceLROnPlateau(\n",
    "        monitor='val_loss', \n",
    "        factor=0.98, \n",
    "        patience=5, \n",
    "        verbose=1, \n",
    "        mode='min',\n",
    "        min_lr=0\n",
    "    )\n",
    "]"
   ]
  },
  {
   "cell_type": "markdown",
   "metadata": {},
   "source": [
    "#### Handling the data"
   ]
  },
  {
   "cell_type": "code",
   "execution_count": 10,
   "metadata": {
    "execution": {
     "iopub.execute_input": "2022-12-12T04:24:35.214994Z",
     "iopub.status.busy": "2022-12-12T04:24:35.214839Z",
     "iopub.status.idle": "2022-12-12T04:24:35.217597Z",
     "shell.execute_reply": "2022-12-12T04:24:35.217044Z",
     "shell.execute_reply.started": "2022-12-12T04:24:35.214981Z"
    }
   },
   "outputs": [],
   "source": [
    "# poems_path = './data/poems.json'"
   ]
  },
  {
   "cell_type": "code",
   "execution_count": 11,
   "metadata": {
    "execution": {
     "iopub.execute_input": "2022-12-12T04:24:35.218406Z",
     "iopub.status.busy": "2022-12-12T04:24:35.218253Z",
     "iopub.status.idle": "2022-12-12T04:24:35.220969Z",
     "shell.execute_reply": "2022-12-12T04:24:35.220427Z",
     "shell.execute_reply.started": "2022-12-12T04:24:35.218393Z"
    }
   },
   "outputs": [],
   "source": [
    "# # use a generator to read the json file\n",
    "# def parse(dataset_path):\n",
    "#     '''\n",
    "#         This function reads the json file and returns a generator\n",
    "#     '''\n",
    "#     dataf = open(dataset_path, 'r', encoding='utf-8')\n",
    "#     for line in dataf:\n",
    "#         # get the text and stars\n",
    "#         yield json.loads(line)['author'], json.loads(line)['content']\n"
   ]
  },
  {
   "cell_type": "code",
   "execution_count": 12,
   "metadata": {
    "execution": {
     "iopub.execute_input": "2022-12-12T04:24:35.221715Z",
     "iopub.status.busy": "2022-12-12T04:24:35.221574Z",
     "iopub.status.idle": "2022-12-12T04:24:35.225484Z",
     "shell.execute_reply": "2022-12-12T04:24:35.224844Z",
     "shell.execute_reply.started": "2022-12-12T04:24:35.221703Z"
    }
   },
   "outputs": [],
   "source": [
    "# def plot_stats(dataset, plotting=True):\n",
    "#     '''\n",
    "#         This function plots the number of authors and content,\n",
    "#         the average number of words per content and the average\n",
    "#         number of characters per content\n",
    "\n",
    "#         Parameters:\n",
    "#             dataset_path (str): path to the dataset or generator\n",
    "#             plotting (bool): if True, it plots the number of contents\n",
    "#     '''\n",
    "\n",
    "\n",
    "#     # check if the dataset is a generator or a path\n",
    "#     if isinstance(dataset, str):\n",
    "#         data_gen = parse(dataset)\n",
    "#     else:\n",
    "#         data_gen = dataset\n",
    "\n",
    "#     authors = []\n",
    "#     contents = []\n",
    "#     for author, content in data_gen:\n",
    "#         authors.append(author)\n",
    "#         contents.append(content)\n",
    "        \n",
    "#     # number of authors\n",
    "#     print('Number of authors: ', len(set(authors)))\n",
    "\n",
    "#     # number of contents\n",
    "#     print('Number of contents: ', len(contents))\n",
    "\n",
    "#     # average number of words per content\n",
    "#     print('Average number of words per content: ', np.mean([len(content.split()) for content in contents]))\n",
    "\n",
    "#     # longest number of words per content\n",
    "#     print('Longest number of words per content: ', np.max([len(content.split()) for content in contents]))\n",
    "\n",
    "#     # shortest number of words per content\n",
    "#     print('Shortest number of words per content: ', np.min([len(content.split()) for content in contents]))\n",
    "\n",
    "#     # for every content, count the number of characters\n",
    "#     print('Average number of characters per content: ', np.mean([len(content) for content in contents]))\n",
    "\n",
    "#     if plotting:\n",
    "#         # for every author, count the number of contents\n",
    "#         authors_count = {}\n",
    "#         for author in authors:\n",
    "#             if author in authors_count:\n",
    "#                 authors_count[author] += 1\n",
    "#             else:\n",
    "#                 authors_count[author] = 1\n",
    "\n",
    "#         # plot the number of contents per author\n",
    "#         plt.figure(figsize=(20, 10))\n",
    "#         plt.bar(authors_count.keys(), authors_count.values())\n",
    "#         plt.xticks(rotation=90)\n",
    "#         plt.title('Number of contents per author')\n",
    "#         plt.xlabel('Author')\n",
    "#         plt.ylabel('Number of contents')\n",
    "#         plt.show()\n",
    "\n",
    "#         # for every content, count the number of words\n",
    "#         contents_count = {}\n",
    "#         for content in contents:\n",
    "#             if len(content.split()) in contents_count:\n",
    "#                 contents_count[len(content.split())] += 1\n",
    "#             else:\n",
    "#                 contents_count[len(content.split())] = 1\n",
    "\n",
    "#         # plot the number of contents per number of words\n",
    "#         plt.figure(figsize=(20, 10))\n",
    "#         plt.bar(contents_count.keys(), contents_count.values())\n",
    "#         plt.xticks(rotation=90)\n",
    "#         plt.title('Number of contents per number of words')\n",
    "#         plt.xlabel('Number of words')\n",
    "#         plt.ylabel('Number of contents')\n",
    "#         plt.show()\n",
    "        \n",
    "\n",
    "    "
   ]
  },
  {
   "cell_type": "code",
   "execution_count": 13,
   "metadata": {
    "execution": {
     "iopub.execute_input": "2022-12-12T04:24:35.226261Z",
     "iopub.status.busy": "2022-12-12T04:24:35.226050Z",
     "iopub.status.idle": "2022-12-12T04:24:35.228908Z",
     "shell.execute_reply": "2022-12-12T04:24:35.228245Z",
     "shell.execute_reply.started": "2022-12-12T04:24:35.226245Z"
    }
   },
   "outputs": [],
   "source": [
    "\n",
    "# # plot the stats for the poems dataset\n",
    "# plot_stats(poems_path)\n",
    "# # "
   ]
  },
  {
   "cell_type": "code",
   "execution_count": 14,
   "metadata": {
    "execution": {
     "iopub.execute_input": "2022-12-12T04:24:35.229607Z",
     "iopub.status.busy": "2022-12-12T04:24:35.229464Z",
     "iopub.status.idle": "2022-12-12T04:24:35.232508Z",
     "shell.execute_reply": "2022-12-12T04:24:35.231961Z",
     "shell.execute_reply.started": "2022-12-12T04:24:35.229594Z"
    }
   },
   "outputs": [],
   "source": [
    "# # read path file write to a json file\n",
    "# def split_dataset(name, og_path, split=[.8, .1, .1]):\n",
    "#     '''\n",
    "#         read a json file and split it into train, test, and validation\n",
    "#         files according to the split parameter\n",
    "#     '''\n",
    "#     # get directory path\n",
    "#     dir_path = '/'.join(og_path.split('/')[:-1])\n",
    "#     # get the generator\n",
    "#     data = parse(og_path)\n",
    "#     # loop through the generator\n",
    "#     for author, content in data:\n",
    "#         # generate a random number between 0 and 1\n",
    "#         r = np.random.rand()\n",
    "#         # if the random number is less than the first split\n",
    "#         if r < split[0]:\n",
    "#             # write to the train file\n",
    "#             with open(dir_path + f'/{name}_train.json', 'a') as f:\n",
    "#                 f.write(json.dumps({'author': author, 'content': content}))\n",
    "#                 f.write('\\n')\n",
    "#         # if the random number is less than the first split plus the second split\n",
    "#         elif r < split[0] + split[1]:\n",
    "#             # write to the validation file\n",
    "#             with open(dir_path + f'/{name}_val.json', 'a') as f:\n",
    "#                 f.write(json.dumps({'author': author, 'content': content}))\n",
    "#                 f.write('\\n')\n",
    "#         # if the random number is less than the first split plus the second split plus the third split\n",
    "#         else:\n",
    "#              # write to the test file\n",
    "#             with open(dir_path + f'/{name}_test.json', 'a') as f:\n",
    "#                 f.write(json.dumps({'author': author, 'content': content}))\n",
    "#                 f.write('\\n')"
   ]
  },
  {
   "cell_type": "code",
   "execution_count": 15,
   "metadata": {
    "execution": {
     "iopub.execute_input": "2022-12-12T04:24:35.233312Z",
     "iopub.status.busy": "2022-12-12T04:24:35.233153Z",
     "iopub.status.idle": "2022-12-12T04:24:35.235693Z",
     "shell.execute_reply": "2022-12-12T04:24:35.235104Z",
     "shell.execute_reply.started": "2022-12-12T04:24:35.233299Z"
    }
   },
   "outputs": [],
   "source": [
    "# split the poems dataset\n",
    "# split_dataset('poems', poems_path)"
   ]
  },
  {
   "cell_type": "code",
   "execution_count": 16,
   "metadata": {
    "execution": {
     "iopub.execute_input": "2022-12-12T04:24:35.236446Z",
     "iopub.status.busy": "2022-12-12T04:24:35.236291Z",
     "iopub.status.idle": "2022-12-12T04:24:35.239079Z",
     "shell.execute_reply": "2022-12-12T04:24:35.238543Z",
     "shell.execute_reply.started": "2022-12-12T04:24:35.236433Z"
    }
   },
   "outputs": [],
   "source": [
    "# # read the train, test, and validation files\n",
    "# def read_dataset(name, path):\n",
    "#     '''\n",
    "#         read the train, test, and validation files\n",
    "#         Input:\n",
    "#             name: the name of the dataset\n",
    "#             path: the path to the dataset\n",
    "#         Output:\n",
    "#             train_ds: the train dataset generator\n",
    "#             val_ds: the validation dataset generator\n",
    "#             test_ds: the test dataset generator\n",
    "#     '''\n",
    "#     # read the train file\n",
    "#     train_path = f\"./data/{name}_train.json\"\n",
    "#     validation_path = f\"./data/{name}_val.json\"\n",
    "#     test_path = f\"./data/{name}_test.json\"\n",
    "\n",
    "#     train_ds = parse(train_path)\n",
    "#     val_ds = parse(validation_path)\n",
    "#     test_ds = parse(test_path)\n",
    "\n",
    "#     return train_ds, val_ds, test_ds\n",
    "    "
   ]
  },
  {
   "cell_type": "code",
   "execution_count": 17,
   "metadata": {
    "execution": {
     "iopub.execute_input": "2022-12-12T04:24:35.239786Z",
     "iopub.status.busy": "2022-12-12T04:24:35.239638Z",
     "iopub.status.idle": "2022-12-12T04:24:35.242384Z",
     "shell.execute_reply": "2022-12-12T04:24:35.241786Z",
     "shell.execute_reply.started": "2022-12-12T04:24:35.239773Z"
    }
   },
   "outputs": [],
   "source": [
    "# # read the poems dataset\n",
    "# poems_train_ds, poems_val_ds, poems_test_ds = read_dataset('poems', poems_path)\n"
   ]
  },
  {
   "cell_type": "code",
   "execution_count": 18,
   "metadata": {
    "execution": {
     "iopub.execute_input": "2022-12-12T04:24:35.243095Z",
     "iopub.status.busy": "2022-12-12T04:24:35.242949Z",
     "iopub.status.idle": "2022-12-12T04:24:35.245453Z",
     "shell.execute_reply": "2022-12-12T04:24:35.245058Z",
     "shell.execute_reply.started": "2022-12-12T04:24:35.243083Z"
    }
   },
   "outputs": [],
   "source": [
    "\n",
    "# # the stats for the poems dataset\n",
    "# print('Trainig set')\n",
    "# plot_stats(poems_train_ds, plotting=False)\n",
    "# print('Validation set')\n",
    "# plot_stats(poems_val_ds, plotting=False)\n",
    "# print('Test set')\n",
    "# plot_stats(poems_test_ds, plotting=False)"
   ]
  },
  {
   "cell_type": "code",
   "execution_count": 19,
   "metadata": {
    "execution": {
     "iopub.execute_input": "2022-12-12T04:24:35.246203Z",
     "iopub.status.busy": "2022-12-12T04:24:35.246056Z",
     "iopub.status.idle": "2022-12-12T04:24:35.248361Z",
     "shell.execute_reply": "2022-12-12T04:24:35.247813Z",
     "shell.execute_reply.started": "2022-12-12T04:24:35.246190Z"
    }
   },
   "outputs": [],
   "source": [
    "# # read the poems dataset\n",
    "# poems_train_ds, poems_val_ds, poems_test_ds = read_dataset('poems', poems_path)\n"
   ]
  },
  {
   "cell_type": "code",
   "execution_count": 20,
   "metadata": {
    "execution": {
     "iopub.execute_input": "2022-12-12T04:24:35.249179Z",
     "iopub.status.busy": "2022-12-12T04:24:35.249026Z",
     "iopub.status.idle": "2022-12-12T04:24:35.251509Z",
     "shell.execute_reply": "2022-12-12T04:24:35.251068Z",
     "shell.execute_reply.started": "2022-12-12T04:24:35.249167Z"
    }
   },
   "outputs": [],
   "source": [
    "# # get an example from the train dataset\n",
    "# author, content = next(poems_train_ds)\n",
    "# print(f'Training Example: {author}, {content}', end='\\n\\n')\n",
    "# # get an example from the validation dataset\n",
    "# author, content = next(poems_val_ds)\n",
    "# print(f'Validation Example: {author}, {content}', end='\\n\\n')\n",
    "# # get an example from the test dataset\n",
    "# author, content = next(poems_test_ds)\n",
    "# print(f'Test Example: {author}, {content}', end='\\n\\n')\n"
   ]
  },
  {
   "cell_type": "code",
   "execution_count": 21,
   "metadata": {
    "execution": {
     "iopub.execute_input": "2022-12-12T04:24:35.252301Z",
     "iopub.status.busy": "2022-12-12T04:24:35.252146Z",
     "iopub.status.idle": "2022-12-12T04:24:36.705824Z",
     "shell.execute_reply": "2022-12-12T04:24:36.705238Z",
     "shell.execute_reply.started": "2022-12-12T04:24:35.252289Z"
    }
   },
   "outputs": [
    {
     "data": {
      "application/vnd.jupyter.widget-view+json": {
       "model_id": "cf6aa651e79841a3853b8af8f9913f53",
       "version_major": 2,
       "version_minor": 0
      },
      "text/plain": [
       "Downloading:   0%|          | 0.00/685 [00:00<?, ?B/s]"
      ]
     },
     "metadata": {},
     "output_type": "display_data"
    },
    {
     "data": {
      "application/vnd.jupyter.widget-view+json": {
       "model_id": "cbabf8f826ba4ee8a2683abc6d4e417e",
       "version_major": 2,
       "version_minor": 0
      },
      "text/plain": [
       "Downloading:   0%|          | 0.00/644 [00:00<?, ?B/s]"
      ]
     },
     "metadata": {},
     "output_type": "display_data"
    },
    {
     "data": {
      "application/vnd.jupyter.widget-view+json": {
       "model_id": "9ec625895f29443f9a005bbe152fce46",
       "version_major": 2,
       "version_minor": 0
      },
      "text/plain": [
       "Downloading:   0%|          | 0.00/878k [00:00<?, ?B/s]"
      ]
     },
     "metadata": {},
     "output_type": "display_data"
    },
    {
     "data": {
      "application/vnd.jupyter.widget-view+json": {
       "model_id": "d1c997c9a3e3425993bb8d3748f32ec9",
       "version_major": 2,
       "version_minor": 0
      },
      "text/plain": [
       "Downloading:   0%|          | 0.00/446k [00:00<?, ?B/s]"
      ]
     },
     "metadata": {},
     "output_type": "display_data"
    },
    {
     "data": {
      "application/vnd.jupyter.widget-view+json": {
       "model_id": "e713bd24c4e8407ba5fc99021558b15e",
       "version_major": 2,
       "version_minor": 0
      },
      "text/plain": [
       "Downloading:   0%|          | 0.00/441 [00:00<?, ?B/s]"
      ]
     },
     "metadata": {},
     "output_type": "display_data"
    }
   ],
   "source": [
    "\n",
    "# tokenizer\n",
    "Tokenizer = AutoTokenizer.from_pretrained(MODEL, use_fast=False)\n"
   ]
  },
  {
   "cell_type": "code",
   "execution_count": 22,
   "metadata": {
    "execution": {
     "iopub.execute_input": "2022-12-12T04:24:36.707317Z",
     "iopub.status.busy": "2022-12-12T04:24:36.706572Z",
     "iopub.status.idle": "2022-12-12T04:24:36.710471Z",
     "shell.execute_reply": "2022-12-12T04:24:36.709899Z",
     "shell.execute_reply.started": "2022-12-12T04:24:36.707297Z"
    }
   },
   "outputs": [],
   "source": [
    "# run the tokenizer on the text\n",
    "def tokenize_fn(examples, tokenizer=Tokenizer):\n",
    "    '''\n",
    "        This function tokenizes the text\n",
    "        - Input:\n",
    "            - examples: the text\n",
    "            - tokenizer: the tokenizer\n",
    "        - Output:\n",
    "            - the tokenized text\n",
    "    '''\n",
    "\n",
    "    return tokenizer(examples['text'])"
   ]
  },
  {
   "cell_type": "code",
   "execution_count": 23,
   "metadata": {
    "execution": {
     "iopub.execute_input": "2022-12-12T04:24:36.711506Z",
     "iopub.status.busy": "2022-12-12T04:24:36.711311Z",
     "iopub.status.idle": "2022-12-12T04:24:36.716330Z",
     "shell.execute_reply": "2022-12-12T04:24:36.715822Z",
     "shell.execute_reply.started": "2022-12-12T04:24:36.711491Z"
    }
   },
   "outputs": [],
   "source": [
    "# group text \n",
    "def group_texts(examples, context_len=CONTEXT_LEN):\n",
    "    '''\n",
    "        This function groups the texts\n",
    "        - Input:\n",
    "            - texts: the texts to group\n",
    "        - Output:\n",
    "            - grouped_texts: the grouped texts\n",
    "    '''\n",
    "    # concatenate all the texts\n",
    "    concatenated_examples = {\n",
    "        k: sum(examples[k], []) for k in examples.keys()\n",
    "    }\n",
    "    # get the total length of the texts\n",
    "    total_length = len(concatenated_examples[list(examples.keys())[0]])\n",
    "    # get the block size\n",
    "    block_size = context_len\n",
    "    # truncate the texts remainder and get new total length\n",
    "    total_length = (total_length // block_size) * block_size\n",
    "    # split the texts into chunnks of max length\n",
    "    result = {\n",
    "        k: [t[i : i + block_size] for i in range(0, total_length, block_size)]\n",
    "        for k, t in concatenated_examples.items()\n",
    "    }\n",
    "    result['labels'] = result['input_ids'].copy()\n",
    "\n",
    "    return result"
   ]
  },
  {
   "cell_type": "code",
   "execution_count": 24,
   "metadata": {
    "execution": {
     "iopub.execute_input": "2022-12-12T04:24:36.717187Z",
     "iopub.status.busy": "2022-12-12T04:24:36.717022Z",
     "iopub.status.idle": "2022-12-12T04:24:36.916313Z",
     "shell.execute_reply": "2022-12-12T04:24:36.915768Z",
     "shell.execute_reply.started": "2022-12-12T04:24:36.717172Z"
    }
   },
   "outputs": [
    {
     "name": "stderr",
     "output_type": "stream",
     "text": [
      "Using custom data configuration default-6bbb520b1db2101a\n"
     ]
    },
    {
     "name": "stdout",
     "output_type": "stream",
     "text": [
      "Downloading and preparing dataset generator/default to /root/.cache/huggingface/datasets/generator/default-6bbb520b1db2101a/0.0.0...\n"
     ]
    },
    {
     "data": {
      "application/vnd.jupyter.widget-view+json": {
       "model_id": "3822132384d54d92b534f488be829de4",
       "version_major": 2,
       "version_minor": 0
      },
      "text/plain": [
       "Generating train split: 0 examples [00:00, ? examples/s]"
      ]
     },
     "metadata": {},
     "output_type": "display_data"
    },
    {
     "name": "stdout",
     "output_type": "stream",
     "text": [
      "Dataset generator downloaded and prepared to /root/.cache/huggingface/datasets/generator/default-6bbb520b1db2101a/0.0.0. Subsequent calls will reuse this data.\n"
     ]
    }
   ],
   "source": [
    "def poems_train_gen():\n",
    "    '''\n",
    "        This function reads the json file and returns a generator\n",
    "    '''\n",
    "    dataset_path = f\"./data/poems_train.json\"\n",
    "    dataf = open(dataset_path, 'r', encoding='utf-8')\n",
    "    for line in dataf:\n",
    "        # get the text and stars\n",
    "        yield {'text': str(json.loads(line)['content'])}\n",
    "\n",
    "raw_train_ds = Dataset.from_generator(poems_train_gen)"
   ]
  },
  {
   "cell_type": "code",
   "execution_count": 25,
   "metadata": {
    "execution": {
     "iopub.execute_input": "2022-12-12T04:24:36.917609Z",
     "iopub.status.busy": "2022-12-12T04:24:36.917420Z",
     "iopub.status.idle": "2022-12-12T04:24:37.017799Z",
     "shell.execute_reply": "2022-12-12T04:24:37.017295Z",
     "shell.execute_reply.started": "2022-12-12T04:24:36.917590Z"
    }
   },
   "outputs": [
    {
     "name": "stderr",
     "output_type": "stream",
     "text": [
      "Using custom data configuration default-b616eecd86ac51fd\n"
     ]
    },
    {
     "name": "stdout",
     "output_type": "stream",
     "text": [
      "Downloading and preparing dataset generator/default to /root/.cache/huggingface/datasets/generator/default-b616eecd86ac51fd/0.0.0...\n"
     ]
    },
    {
     "data": {
      "application/vnd.jupyter.widget-view+json": {
       "model_id": "c8a817ba166d45b38f6666169acefcb4",
       "version_major": 2,
       "version_minor": 0
      },
      "text/plain": [
       "Generating train split: 0 examples [00:00, ? examples/s]"
      ]
     },
     "metadata": {},
     "output_type": "display_data"
    },
    {
     "name": "stdout",
     "output_type": "stream",
     "text": [
      "Dataset generator downloaded and prepared to /root/.cache/huggingface/datasets/generator/default-b616eecd86ac51fd/0.0.0. Subsequent calls will reuse this data.\n"
     ]
    }
   ],
   "source": [
    "def poems_val_gen():\n",
    "    '''\n",
    "        This function reads the json file and returns a generator\n",
    "    '''\n",
    "    dataset_path = f\"./data/poems_val.json\"\n",
    "    dataf = open(dataset_path, 'r', encoding='utf-8')\n",
    "    for line in dataf:\n",
    "        # get the text and stars\n",
    "        yield {'text':str(json.loads(line)['content'])}\n",
    "\n",
    "raw_val_ds = Dataset.from_generator(poems_val_gen)"
   ]
  },
  {
   "cell_type": "code",
   "execution_count": 26,
   "metadata": {
    "execution": {
     "iopub.execute_input": "2022-12-12T04:24:37.018707Z",
     "iopub.status.busy": "2022-12-12T04:24:37.018491Z",
     "iopub.status.idle": "2022-12-12T04:24:37.140063Z",
     "shell.execute_reply": "2022-12-12T04:24:37.139617Z",
     "shell.execute_reply.started": "2022-12-12T04:24:37.018685Z"
    }
   },
   "outputs": [
    {
     "name": "stderr",
     "output_type": "stream",
     "text": [
      "Using custom data configuration default-d3efb35fc94c1e1a\n"
     ]
    },
    {
     "name": "stdout",
     "output_type": "stream",
     "text": [
      "Downloading and preparing dataset generator/default to /root/.cache/huggingface/datasets/generator/default-d3efb35fc94c1e1a/0.0.0...\n"
     ]
    },
    {
     "data": {
      "application/vnd.jupyter.widget-view+json": {
       "model_id": "b01e1edd3a1b45188199682aa46c8973",
       "version_major": 2,
       "version_minor": 0
      },
      "text/plain": [
       "Generating train split: 0 examples [00:00, ? examples/s]"
      ]
     },
     "metadata": {},
     "output_type": "display_data"
    },
    {
     "name": "stdout",
     "output_type": "stream",
     "text": [
      "Dataset generator downloaded and prepared to /root/.cache/huggingface/datasets/generator/default-d3efb35fc94c1e1a/0.0.0. Subsequent calls will reuse this data.\n"
     ]
    }
   ],
   "source": [
    "def poems_test_gen():\n",
    "    '''\n",
    "        This function reads the json file and returns a generator\n",
    "    '''\n",
    "    dataset_path = f\"./data/poems_test.json\"\n",
    "    dataf = open(dataset_path, 'r', encoding='utf-8')\n",
    "    for line in dataf:\n",
    "        # get the text and stars\n",
    "        yield {'text':str(json.loads(line)['content'])}\n",
    "\n",
    "raw_test_ds = Dataset.from_generator(poems_test_gen)"
   ]
  },
  {
   "cell_type": "code",
   "execution_count": 27,
   "metadata": {
    "execution": {
     "iopub.execute_input": "2022-12-12T04:24:37.141351Z",
     "iopub.status.busy": "2022-12-12T04:24:37.141175Z",
     "iopub.status.idle": "2022-12-12T04:24:37.144255Z",
     "shell.execute_reply": "2022-12-12T04:24:37.143821Z",
     "shell.execute_reply.started": "2022-12-12T04:24:37.141335Z"
    }
   },
   "outputs": [
    {
     "name": "stdout",
     "output_type": "stream",
     "text": [
      "DatasetDict({\n",
      "    train: Dataset({\n",
      "        features: ['text'],\n",
      "        num_rows: 1468\n",
      "    })\n",
      "    validation: Dataset({\n",
      "        features: ['text'],\n",
      "        num_rows: 165\n",
      "    })\n",
      "    test: Dataset({\n",
      "        features: ['text'],\n",
      "        num_rows: 185\n",
      "    })\n",
      "})\n"
     ]
    }
   ],
   "source": [
    "# make a dataset dict\n",
    "poem_datasets = DatasetDict({\n",
    "    'train': raw_train_ds,\n",
    "    'validation': raw_val_ds,\n",
    "    'test': raw_test_ds\n",
    "})\n",
    "print(poem_datasets)"
   ]
  },
  {
   "cell_type": "code",
   "execution_count": 28,
   "metadata": {
    "execution": {
     "iopub.execute_input": "2022-12-12T04:24:37.147447Z",
     "iopub.status.busy": "2022-12-12T04:24:37.147268Z",
     "iopub.status.idle": "2022-12-12T04:24:57.221145Z",
     "shell.execute_reply": "2022-12-12T04:24:57.220577Z",
     "shell.execute_reply.started": "2022-12-12T04:24:37.147428Z"
    }
   },
   "outputs": [
    {
     "name": "stdout",
     "output_type": "stream",
     "text": [
      "     "
     ]
    },
    {
     "data": {
      "application/vnd.jupyter.widget-view+json": {
       "model_id": "20c700d2d691493e8dca06a61dcce485",
       "version_major": 2,
       "version_minor": 0
      },
      "text/plain": [
       "#0:   0%|          | 0/1 [00:00<?, ?ba/s]"
      ]
     },
     "metadata": {},
     "output_type": "display_data"
    },
    {
     "name": "stdout",
     "output_type": "stream",
     "text": [
      " "
     ]
    },
    {
     "data": {
      "application/vnd.jupyter.widget-view+json": {
       "model_id": "ef57edfbf1264872acabe4426d72bb70",
       "version_major": 2,
       "version_minor": 0
      },
      "text/plain": [
       "#1:   0%|          | 0/1 [00:00<?, ?ba/s]"
      ]
     },
     "metadata": {},
     "output_type": "display_data"
    },
    {
     "name": "stdout",
     "output_type": "stream",
     "text": [
      " "
     ]
    },
    {
     "data": {
      "application/vnd.jupyter.widget-view+json": {
       "model_id": "f943a85ad0424482ac1dd5380d368fd6",
       "version_major": 2,
       "version_minor": 0
      },
      "text/plain": [
       "#2:   0%|          | 0/1 [00:00<?, ?ba/s]"
      ]
     },
     "metadata": {},
     "output_type": "display_data"
    },
    {
     "name": "stdout",
     "output_type": "stream",
     "text": [
      " "
     ]
    },
    {
     "data": {
      "application/vnd.jupyter.widget-view+json": {
       "model_id": "874836ddca9e48b19cb0a0854a4b4b8d",
       "version_major": 2,
       "version_minor": 0
      },
      "text/plain": [
       "#3:   0%|          | 0/1 [00:00<?, ?ba/s]"
      ]
     },
     "metadata": {},
     "output_type": "display_data"
    },
    {
     "name": "stdout",
     "output_type": "stream",
     "text": [
      "     "
     ]
    },
    {
     "data": {
      "application/vnd.jupyter.widget-view+json": {
       "model_id": "a103180f2d0c4773a2c0f1f7f2be1bd4",
       "version_major": 2,
       "version_minor": 0
      },
      "text/plain": [
       "#0:   0%|          | 0/1 [00:00<?, ?ba/s]"
      ]
     },
     "metadata": {},
     "output_type": "display_data"
    },
    {
     "name": "stdout",
     "output_type": "stream",
     "text": [
      " "
     ]
    },
    {
     "data": {
      "application/vnd.jupyter.widget-view+json": {
       "model_id": "dc9b1d3e4994412ebe94e1550c50e95d",
       "version_major": 2,
       "version_minor": 0
      },
      "text/plain": [
       "#1:   0%|          | 0/1 [00:00<?, ?ba/s]"
      ]
     },
     "metadata": {},
     "output_type": "display_data"
    },
    {
     "name": "stdout",
     "output_type": "stream",
     "text": [
      " "
     ]
    },
    {
     "data": {
      "application/vnd.jupyter.widget-view+json": {
       "model_id": "2a3c136275b149c4b989756db16cb1de",
       "version_major": 2,
       "version_minor": 0
      },
      "text/plain": [
       "#2:   0%|          | 0/1 [00:00<?, ?ba/s]"
      ]
     },
     "metadata": {},
     "output_type": "display_data"
    },
    {
     "name": "stdout",
     "output_type": "stream",
     "text": [
      " "
     ]
    },
    {
     "data": {
      "application/vnd.jupyter.widget-view+json": {
       "model_id": "9820c1f1e9f044e4b649a5e437ed4665",
       "version_major": 2,
       "version_minor": 0
      },
      "text/plain": [
       "#3:   0%|          | 0/1 [00:00<?, ?ba/s]"
      ]
     },
     "metadata": {},
     "output_type": "display_data"
    },
    {
     "name": "stdout",
     "output_type": "stream",
     "text": [
      "     "
     ]
    },
    {
     "data": {
      "application/vnd.jupyter.widget-view+json": {
       "model_id": "7177d9f3fded464786e67e89bd5475d7",
       "version_major": 2,
       "version_minor": 0
      },
      "text/plain": [
       "#0:   0%|          | 0/1 [00:00<?, ?ba/s]"
      ]
     },
     "metadata": {},
     "output_type": "display_data"
    },
    {
     "name": "stdout",
     "output_type": "stream",
     "text": [
      " "
     ]
    },
    {
     "data": {
      "application/vnd.jupyter.widget-view+json": {
       "model_id": "07e3e00d212a4857bab79e2d506a6ccc",
       "version_major": 2,
       "version_minor": 0
      },
      "text/plain": [
       "#1:   0%|          | 0/1 [00:00<?, ?ba/s]"
      ]
     },
     "metadata": {},
     "output_type": "display_data"
    },
    {
     "name": "stdout",
     "output_type": "stream",
     "text": [
      " "
     ]
    },
    {
     "data": {
      "application/vnd.jupyter.widget-view+json": {
       "model_id": "1a68c9132afb4d61aa0f2fb644b11b78",
       "version_major": 2,
       "version_minor": 0
      },
      "text/plain": [
       "#2:   0%|          | 0/1 [00:00<?, ?ba/s]"
      ]
     },
     "metadata": {},
     "output_type": "display_data"
    },
    {
     "name": "stdout",
     "output_type": "stream",
     "text": [
      " "
     ]
    },
    {
     "data": {
      "application/vnd.jupyter.widget-view+json": {
       "model_id": "6561db41cc5644c78a12438f3886b9b1",
       "version_major": 2,
       "version_minor": 0
      },
      "text/plain": [
       "#3:   0%|          | 0/1 [00:00<?, ?ba/s]"
      ]
     },
     "metadata": {},
     "output_type": "display_data"
    },
    {
     "name": "stdout",
     "output_type": "stream",
     "text": [
      "      "
     ]
    },
    {
     "data": {
      "application/vnd.jupyter.widget-view+json": {
       "model_id": "6ebbec1456614658b5faa17d9451bd80",
       "version_major": 2,
       "version_minor": 0
      },
      "text/plain": [
       "#0:   0%|          | 0/1 [00:00<?, ?ba/s]"
      ]
     },
     "metadata": {},
     "output_type": "display_data"
    },
    {
     "name": "stdout",
     "output_type": "stream",
     "text": [
      "  "
     ]
    },
    {
     "data": {
      "application/vnd.jupyter.widget-view+json": {
       "model_id": "d8dcdac224234176b847e4d492da181f",
       "version_major": 2,
       "version_minor": 0
      },
      "text/plain": [
       "#1:   0%|          | 0/1 [00:00<?, ?ba/s]"
      ]
     },
     "metadata": {},
     "output_type": "display_data"
    },
    {
     "data": {
      "application/vnd.jupyter.widget-view+json": {
       "model_id": "4904a9d6457247aaaf47dbbbcf7fc107",
       "version_major": 2,
       "version_minor": 0
      },
      "text/plain": [
       "#2:   0%|          | 0/1 [00:00<?, ?ba/s]"
      ]
     },
     "metadata": {},
     "output_type": "display_data"
    },
    {
     "data": {
      "application/vnd.jupyter.widget-view+json": {
       "model_id": "0027215821f04272bfcb974e5ed94d3a",
       "version_major": 2,
       "version_minor": 0
      },
      "text/plain": [
       "#3:   0%|          | 0/1 [00:00<?, ?ba/s]"
      ]
     },
     "metadata": {},
     "output_type": "display_data"
    },
    {
     "name": "stdout",
     "output_type": "stream",
     "text": [
      "      "
     ]
    },
    {
     "data": {
      "application/vnd.jupyter.widget-view+json": {
       "model_id": "9d0b0db4c6c9430d8b117205dd038ebf",
       "version_major": 2,
       "version_minor": 0
      },
      "text/plain": [
       "#0:   0%|          | 0/1 [00:00<?, ?ba/s]"
      ]
     },
     "metadata": {},
     "output_type": "display_data"
    },
    {
     "name": "stdout",
     "output_type": "stream",
     "text": [
      "  "
     ]
    },
    {
     "data": {
      "application/vnd.jupyter.widget-view+json": {
       "model_id": "e8c678f17b014c29b6d2a14564ffa4db",
       "version_major": 2,
       "version_minor": 0
      },
      "text/plain": [
       "#1:   0%|          | 0/1 [00:00<?, ?ba/s]"
      ]
     },
     "metadata": {},
     "output_type": "display_data"
    },
    {
     "data": {
      "application/vnd.jupyter.widget-view+json": {
       "model_id": "d1bb2bdf88aa428286552c0f9a8dd7e6",
       "version_major": 2,
       "version_minor": 0
      },
      "text/plain": [
       "#2:   0%|          | 0/1 [00:00<?, ?ba/s]"
      ]
     },
     "metadata": {},
     "output_type": "display_data"
    },
    {
     "data": {
      "application/vnd.jupyter.widget-view+json": {
       "model_id": "11d1fd3be3d0492c92f5a743dac5ce7c",
       "version_major": 2,
       "version_minor": 0
      },
      "text/plain": [
       "#3:   0%|          | 0/1 [00:00<?, ?ba/s]"
      ]
     },
     "metadata": {},
     "output_type": "display_data"
    },
    {
     "name": "stdout",
     "output_type": "stream",
     "text": [
      "       "
     ]
    },
    {
     "data": {
      "application/vnd.jupyter.widget-view+json": {
       "model_id": "e1ce2759733047e382217ca041b3808c",
       "version_major": 2,
       "version_minor": 0
      },
      "text/plain": [
       "#0:   0%|          | 0/1 [00:00<?, ?ba/s]"
      ]
     },
     "metadata": {},
     "output_type": "display_data"
    },
    {
     "name": "stdout",
     "output_type": "stream",
     "text": [
      " "
     ]
    },
    {
     "data": {
      "application/vnd.jupyter.widget-view+json": {
       "model_id": "e29a30843ffa40d8aae2fb7ee423aa6f",
       "version_major": 2,
       "version_minor": 0
      },
      "text/plain": [
       "#1:   0%|          | 0/1 [00:00<?, ?ba/s]"
      ]
     },
     "metadata": {},
     "output_type": "display_data"
    },
    {
     "data": {
      "application/vnd.jupyter.widget-view+json": {
       "model_id": "cea1af5a5e1845e48f4de115b341e0bf",
       "version_major": 2,
       "version_minor": 0
      },
      "text/plain": [
       "#2:   0%|          | 0/1 [00:00<?, ?ba/s]"
      ]
     },
     "metadata": {},
     "output_type": "display_data"
    },
    {
     "data": {
      "application/vnd.jupyter.widget-view+json": {
       "model_id": "68b990468c914692a07e5570a882e0a2",
       "version_major": 2,
       "version_minor": 0
      },
      "text/plain": [
       "#3:   0%|          | 0/1 [00:00<?, ?ba/s]"
      ]
     },
     "metadata": {},
     "output_type": "display_data"
    }
   ],
   "source": [
    "# tokenize the poems dataset\n",
    "tokenized_poems_datasets = poem_datasets.map(\n",
    "    tokenize_fn,\n",
    "    batched=True,\n",
    "    num_proc=4,\n",
    "    remove_columns=['text'])\n",
    "\n",
    "poem_lm_ds = tokenized_poems_datasets.map(\n",
    "    group_texts,\n",
    "    batched=True,\n",
    "    batch_size=1000,\n",
    "    num_proc=4,\n",
    ")\n"
   ]
  },
  {
   "cell_type": "code",
   "execution_count": 29,
   "metadata": {
    "execution": {
     "iopub.execute_input": "2022-12-12T04:24:57.222043Z",
     "iopub.status.busy": "2022-12-12T04:24:57.221865Z",
     "iopub.status.idle": "2022-12-12T04:24:57.787644Z",
     "shell.execute_reply": "2022-12-12T04:24:57.786983Z",
     "shell.execute_reply.started": "2022-12-12T04:24:57.222026Z"
    }
   },
   "outputs": [],
   "source": [
    "data_collator = DefaultDataCollator(return_tensors='tf')\n",
    "train_set = poem_lm_ds['train'].to_tf_dataset(\n",
    "    columns=['attention_mask', 'input_ids', 'labels'],\n",
    "    shuffle=True,\n",
    "    batch_size=BATCH_SIZE,\n",
    "    collate_fn=data_collator,)\n",
    "val_set = poem_lm_ds['validation'].to_tf_dataset(\n",
    "    columns=['attention_mask', 'input_ids', 'labels'],\n",
    "    shuffle=True,\n",
    "    batch_size=BATCH_SIZE,\n",
    "    collate_fn=data_collator,)\n",
    "test_set = poem_lm_ds['test'].to_tf_dataset(\n",
    "    columns=['attention_mask', 'input_ids', 'labels'],\n",
    "    shuffle=True,\n",
    "    batch_size=BATCH_SIZE,\n",
    "    collate_fn=data_collator,)\n"
   ]
  },
  {
   "cell_type": "markdown",
   "metadata": {},
   "source": [
    "#### Handling the Model"
   ]
  },
  {
   "cell_type": "code",
   "execution_count": 30,
   "metadata": {
    "execution": {
     "iopub.execute_input": "2022-12-12T04:24:57.788712Z",
     "iopub.status.busy": "2022-12-12T04:24:57.788519Z",
     "iopub.status.idle": "2022-12-12T04:25:11.952324Z",
     "shell.execute_reply": "2022-12-12T04:25:11.951620Z",
     "shell.execute_reply.started": "2022-12-12T04:24:57.788695Z"
    }
   },
   "outputs": [
    {
     "data": {
      "application/vnd.jupyter.widget-view+json": {
       "model_id": "59cf31919928426db74d4cf454d4f39e",
       "version_major": 2,
       "version_minor": 0
      },
      "text/plain": [
       "Downloading:   0%|          | 0.00/632M [00:00<?, ?B/s]"
      ]
     },
     "metadata": {},
     "output_type": "display_data"
    },
    {
     "name": "stderr",
     "output_type": "stream",
     "text": [
      "All model checkpoint layers were used when initializing TFOPTForCausalLM.\n",
      "\n",
      "All the layers of TFOPTForCausalLM were initialized from the model checkpoint at facebook/opt-350m.\n",
      "If your task is similar to the task the model of the checkpoint was trained on, you can already use TFOPTForCausalLM for predictions without further training.\n"
     ]
    }
   ],
   "source": [
    "\n",
    "# configure gpu for sequence classification\n",
    "# config = AutoConfig(\n",
    "#     dropout=OPT_DROPOUT, # still works here\n",
    "#     attention_dropout=OPT_ATT_DROPOUT, # still works here\n",
    "# )\n",
    "# load the model\n",
    "poet_model = TFAutoModelForCausalLM.from_pretrained(MODEL)"
   ]
  },
  {
   "cell_type": "code",
   "execution_count": 31,
   "metadata": {
    "execution": {
     "iopub.execute_input": "2022-12-12T04:25:11.953392Z",
     "iopub.status.busy": "2022-12-12T04:25:11.953196Z",
     "iopub.status.idle": "2022-12-12T04:25:11.978329Z",
     "shell.execute_reply": "2022-12-12T04:25:11.977740Z",
     "shell.execute_reply.started": "2022-12-12T04:25:11.953375Z"
    }
   },
   "outputs": [
    {
     "name": "stderr",
     "output_type": "stream",
     "text": [
      "No loss specified in compile() - the model's internal loss computation will be used as the loss. Don't panic - this is a common way to train TensorFlow models in Transformers! To disable this behaviour please pass a loss argument, or explicitly pass `loss=None` if you do not want your model to compute a loss.\n"
     ]
    },
    {
     "name": "stdout",
     "output_type": "stream",
     "text": [
      "Model: \"tfopt_for_causal_lm\"\n",
      "_________________________________________________________________\n",
      " Layer (type)                Output Shape              Param #   \n",
      "=================================================================\n",
      " model (TFOPTMainLayer)      multiple                  331196416 \n",
      "                                                                 \n",
      "=================================================================\n",
      "Total params: 331,196,416\n",
      "Trainable params: 331,196,416\n",
      "Non-trainable params: 0\n",
      "_________________________________________________________________\n"
     ]
    }
   ],
   "source": [
    "poet_model.compile(\n",
    "    optimizer=OPTIM,\n",
    "    metrics=['accuracy']\n",
    ")\n",
    "# print the model summary\n",
    "poet_model.summary()"
   ]
  },
  {
   "cell_type": "code",
   "execution_count": 34,
   "metadata": {
    "execution": {
     "iopub.execute_input": "2022-12-12T04:25:11.986441Z",
     "iopub.status.busy": "2022-12-12T04:25:11.986263Z",
     "iopub.status.idle": "2022-12-12T04:25:11.989445Z",
     "shell.execute_reply": "2022-12-12T04:25:11.988875Z",
     "shell.execute_reply.started": "2022-12-12T04:25:11.986427Z"
    }
   },
   "outputs": [],
   "source": [
    "def load_model(model, model_path):\n",
    "    '''\n",
    "        This function loads a model\n",
    "        input:\n",
    "            - model_path: the model path\n",
    "        output:\n",
    "            - model: the model\n",
    "    '''\n",
    "    # load the model from tf format\n",
    "    model.load_weights(model_path)\n",
    "    # return the model\n",
    "    return model"
   ]
  },
  {
   "cell_type": "code",
   "execution_count": 35,
   "metadata": {
    "execution": {
     "iopub.execute_input": "2022-12-12T04:25:11.990387Z",
     "iopub.status.busy": "2022-12-12T04:25:11.990226Z",
     "iopub.status.idle": "2022-12-12T04:25:21.042733Z",
     "shell.execute_reply": "2022-12-12T04:25:21.042099Z",
     "shell.execute_reply.started": "2022-12-12T04:25:11.990373Z"
    }
   },
   "outputs": [],
   "source": [
    "# # load the model\n",
    "# model_path = f\"./models/poet/poet\"\n",
    "# poet_model = load_model(poet_model, model_path)"
   ]
  },
  {
   "cell_type": "code",
   "execution_count": 36,
   "metadata": {
    "execution": {
     "iopub.execute_input": "2022-12-12T04:25:21.044145Z",
     "iopub.status.busy": "2022-12-12T04:25:21.043957Z",
     "iopub.status.idle": "2022-12-12T05:09:49.470456Z",
     "shell.execute_reply": "2022-12-12T05:09:49.469786Z",
     "shell.execute_reply.started": "2022-12-12T04:25:21.044129Z"
    }
   },
   "outputs": [
    {
     "name": "stdout",
     "output_type": "stream",
     "text": [
      "Epoch 1/100\n",
      "31/31 [==============================] - 61s 916ms/step - loss: 6.7619 - accuracy: 0.0672 - val_loss: 6.8335 - val_accuracy: 0.0590 - lr: 0.0068\n",
      "Epoch 2/100\n",
      "31/31 [==============================] - 24s 774ms/step - loss: 6.7643 - accuracy: 0.0672 - val_loss: 6.8691 - val_accuracy: 0.0590 - lr: 0.0068\n",
      "Epoch 3/100\n",
      "31/31 [==============================] - 24s 777ms/step - loss: 6.7624 - accuracy: 0.0672 - val_loss: 6.8431 - val_accuracy: 0.0590 - lr: 0.0068\n",
      "Epoch 4/100\n",
      "31/31 [==============================] - 24s 773ms/step - loss: 6.7615 - accuracy: 0.0672 - val_loss: 6.8384 - val_accuracy: 0.0590 - lr: 0.0068\n",
      "Epoch 5/100\n",
      "31/31 [==============================] - 24s 778ms/step - loss: 6.7656 - accuracy: 0.0672 - val_loss: 6.8412 - val_accuracy: 0.0590 - lr: 0.0068\n",
      "Epoch 6/100\n",
      "31/31 [==============================] - 24s 781ms/step - loss: 6.7638 - accuracy: 0.0672 - val_loss: 6.8207 - val_accuracy: 0.0590 - lr: 0.0068\n",
      "Epoch 7/100\n",
      "31/31 [==============================] - 24s 779ms/step - loss: 6.7656 - accuracy: 0.0672 - val_loss: 6.8317 - val_accuracy: 0.0590 - lr: 0.0068\n",
      "Epoch 8/100\n",
      "31/31 [==============================] - 24s 780ms/step - loss: 6.7648 - accuracy: 0.0672 - val_loss: 6.8441 - val_accuracy: 0.0590 - lr: 0.0068\n",
      "Epoch 9/100\n",
      "31/31 [==============================] - 24s 780ms/step - loss: 6.7607 - accuracy: 0.0672 - val_loss: 6.8220 - val_accuracy: 0.0590 - lr: 0.0068\n",
      "Epoch 10/100\n",
      "31/31 [==============================] - 24s 779ms/step - loss: 6.7632 - accuracy: 0.0672 - val_loss: 6.8573 - val_accuracy: 0.0590 - lr: 0.0068\n",
      "Epoch 11/100\n",
      "31/31 [==============================] - ETA: 0s - loss: 6.7660 - accuracy: 0.0672\n",
      "Epoch 11: ReduceLROnPlateau reducing learning rate to 0.006676080077886581.\n",
      "31/31 [==============================] - 24s 779ms/step - loss: 6.7660 - accuracy: 0.0672 - val_loss: 6.8463 - val_accuracy: 0.0590 - lr: 0.0068\n",
      "Epoch 12/100\n",
      "31/31 [==============================] - 24s 779ms/step - loss: 6.7641 - accuracy: 0.0672 - val_loss: 6.8468 - val_accuracy: 0.0590 - lr: 0.0067\n",
      "Epoch 13/100\n",
      "31/31 [==============================] - 24s 779ms/step - loss: 6.7660 - accuracy: 0.0672 - val_loss: 6.8569 - val_accuracy: 0.0590 - lr: 0.0067\n",
      "Epoch 14/100\n",
      "31/31 [==============================] - 24s 779ms/step - loss: 6.7650 - accuracy: 0.0672 - val_loss: 6.8460 - val_accuracy: 0.0590 - lr: 0.0067\n",
      "Epoch 15/100\n",
      "31/31 [==============================] - 24s 779ms/step - loss: 6.7635 - accuracy: 0.0672 - val_loss: 6.8374 - val_accuracy: 0.0590 - lr: 0.0067\n",
      "Epoch 16/100\n",
      "31/31 [==============================] - ETA: 0s - loss: 6.7592 - accuracy: 0.0672\n",
      "Epoch 16: ReduceLROnPlateau reducing learning rate to 0.006542558567598462.\n",
      "31/31 [==============================] - 24s 779ms/step - loss: 6.7592 - accuracy: 0.0672 - val_loss: 6.8446 - val_accuracy: 0.0590 - lr: 0.0067\n",
      "Epoch 17/100\n",
      "31/31 [==============================] - 24s 779ms/step - loss: 6.7643 - accuracy: 0.0672 - val_loss: 6.8417 - val_accuracy: 0.0590 - lr: 0.0065\n",
      "Epoch 18/100\n",
      "31/31 [==============================] - 24s 779ms/step - loss: 6.7575 - accuracy: 0.0672 - val_loss: 6.8357 - val_accuracy: 0.0590 - lr: 0.0065\n",
      "Epoch 19/100\n",
      "31/31 [==============================] - 24s 780ms/step - loss: 6.7698 - accuracy: 0.0672 - val_loss: 6.8503 - val_accuracy: 0.0590 - lr: 0.0065\n",
      "Epoch 20/100\n",
      "31/31 [==============================] - 24s 780ms/step - loss: 6.7604 - accuracy: 0.0672 - val_loss: 6.8414 - val_accuracy: 0.0590 - lr: 0.0065\n",
      "Epoch 21/100\n",
      "31/31 [==============================] - ETA: 0s - loss: 6.7595 - accuracy: 0.0672\n",
      "Epoch 21: ReduceLROnPlateau reducing learning rate to 0.006411707606166601.\n",
      "31/31 [==============================] - 24s 780ms/step - loss: 6.7595 - accuracy: 0.0672 - val_loss: 6.8380 - val_accuracy: 0.0590 - lr: 0.0065\n",
      "Epoch 22/100\n",
      "31/31 [==============================] - 24s 781ms/step - loss: 6.7636 - accuracy: 0.0672 - val_loss: 6.8253 - val_accuracy: 0.0590 - lr: 0.0064\n",
      "Epoch 23/100\n",
      "31/31 [==============================] - 24s 780ms/step - loss: 6.7609 - accuracy: 0.0672 - val_loss: 6.8223 - val_accuracy: 0.0590 - lr: 0.0064\n",
      "Epoch 24/100\n",
      "31/31 [==============================] - 24s 781ms/step - loss: 6.7605 - accuracy: 0.0672 - val_loss: 6.8248 - val_accuracy: 0.0590 - lr: 0.0064\n",
      "Epoch 25/100\n",
      "31/31 [==============================] - 24s 779ms/step - loss: 6.7604 - accuracy: 0.0672 - val_loss: 6.8347 - val_accuracy: 0.0590 - lr: 0.0064\n",
      "Epoch 26/100\n",
      "31/31 [==============================] - ETA: 0s - loss: 6.7629 - accuracy: 0.0672\n",
      "Epoch 26: ReduceLROnPlateau reducing learning rate to 0.006283473344519734.\n",
      "31/31 [==============================] - 24s 781ms/step - loss: 6.7629 - accuracy: 0.0672 - val_loss: 6.8479 - val_accuracy: 0.0590 - lr: 0.0064\n",
      "Epoch 27/100\n",
      "31/31 [==============================] - 24s 779ms/step - loss: 6.7555 - accuracy: 0.0672 - val_loss: 6.8416 - val_accuracy: 0.0590 - lr: 0.0063\n",
      "Epoch 28/100\n",
      "31/31 [==============================] - 24s 781ms/step - loss: 6.7578 - accuracy: 0.0672 - val_loss: 6.8420 - val_accuracy: 0.0590 - lr: 0.0063\n",
      "Epoch 29/100\n",
      "31/31 [==============================] - 24s 780ms/step - loss: 6.7579 - accuracy: 0.0672 - val_loss: 6.8340 - val_accuracy: 0.0590 - lr: 0.0063\n",
      "Epoch 30/100\n",
      "31/31 [==============================] - 24s 779ms/step - loss: 6.7599 - accuracy: 0.0672 - val_loss: 6.8386 - val_accuracy: 0.0590 - lr: 0.0063\n",
      "Epoch 31/100\n",
      "31/31 [==============================] - ETA: 0s - loss: 6.7623 - accuracy: 0.0672\n",
      "Epoch 31: ReduceLROnPlateau reducing learning rate to 0.006157803758978843.\n",
      "31/31 [==============================] - 24s 780ms/step - loss: 6.7623 - accuracy: 0.0672 - val_loss: 6.8589 - val_accuracy: 0.0590 - lr: 0.0063\n",
      "Epoch 32/100\n",
      "31/31 [==============================] - 24s 780ms/step - loss: 6.7685 - accuracy: 0.0672 - val_loss: 6.8418 - val_accuracy: 0.0590 - lr: 0.0062\n",
      "Epoch 33/100\n",
      "31/31 [==============================] - 24s 772ms/step - loss: 6.7569 - accuracy: 0.0672 - val_loss: 6.8284 - val_accuracy: 0.0590 - lr: 0.0062\n",
      "Epoch 34/100\n",
      "31/31 [==============================] - 24s 778ms/step - loss: 6.7569 - accuracy: 0.0672 - val_loss: 6.8329 - val_accuracy: 0.0590 - lr: 0.0062\n",
      "Epoch 35/100\n",
      "31/31 [==============================] - 24s 780ms/step - loss: 6.7631 - accuracy: 0.0672 - val_loss: 6.8429 - val_accuracy: 0.0590 - lr: 0.0062\n",
      "Epoch 36/100\n",
      "31/31 [==============================] - ETA: 0s - loss: 6.7609 - accuracy: 0.0672\n",
      "Epoch 36: ReduceLROnPlateau reducing learning rate to 0.006034647738561034.\n",
      "31/31 [==============================] - 24s 780ms/step - loss: 6.7609 - accuracy: 0.0672 - val_loss: 6.8292 - val_accuracy: 0.0590 - lr: 0.0062\n",
      "Epoch 37/100\n",
      "31/31 [==============================] - 24s 780ms/step - loss: 6.7635 - accuracy: 0.0672 - val_loss: 6.8375 - val_accuracy: 0.0590 - lr: 0.0060\n",
      "Epoch 38/100\n",
      "31/31 [==============================] - 24s 780ms/step - loss: 6.7574 - accuracy: 0.0672 - val_loss: 6.8369 - val_accuracy: 0.0590 - lr: 0.0060\n",
      "Epoch 39/100\n",
      "31/31 [==============================] - 24s 780ms/step - loss: 6.7654 - accuracy: 0.0657 - val_loss: 6.8320 - val_accuracy: 0.0590 - lr: 0.0060\n",
      "Epoch 40/100\n",
      "31/31 [==============================] - 24s 780ms/step - loss: 6.7566 - accuracy: 0.0672 - val_loss: 6.8494 - val_accuracy: 0.0590 - lr: 0.0060\n",
      "Epoch 41/100\n",
      "31/31 [==============================] - ETA: 0s - loss: 6.7596 - accuracy: 0.0672\n",
      "Epoch 41: ReduceLROnPlateau reducing learning rate to 0.005913954628631472.\n",
      "31/31 [==============================] - 24s 781ms/step - loss: 6.7596 - accuracy: 0.0672 - val_loss: 6.8476 - val_accuracy: 0.0590 - lr: 0.0060\n",
      "Epoch 42/100\n",
      "31/31 [==============================] - 24s 780ms/step - loss: 6.7600 - accuracy: 0.0672 - val_loss: 6.8312 - val_accuracy: 0.0590 - lr: 0.0059\n",
      "Epoch 43/100\n",
      "31/31 [==============================] - 24s 780ms/step - loss: 6.7589 - accuracy: 0.0672 - val_loss: 6.8358 - val_accuracy: 0.0590 - lr: 0.0059\n",
      "Epoch 44/100\n",
      "31/31 [==============================] - 24s 779ms/step - loss: 6.7667 - accuracy: 0.0672 - val_loss: 6.8274 - val_accuracy: 0.0590 - lr: 0.0059\n",
      "Epoch 45/100\n",
      "31/31 [==============================] - 24s 784ms/step - loss: 6.7598 - accuracy: 0.0672 - val_loss: 6.8458 - val_accuracy: 0.0590 - lr: 0.0059\n",
      "Epoch 46/100\n",
      "31/31 [==============================] - ETA: 0s - loss: 6.7595 - accuracy: 0.0672\n",
      "Epoch 46: ReduceLROnPlateau reducing learning rate to 0.005795675599947572.\n",
      "31/31 [==============================] - 24s 782ms/step - loss: 6.7595 - accuracy: 0.0672 - val_loss: 6.8248 - val_accuracy: 0.0590 - lr: 0.0059\n",
      "Epoch 47/100\n",
      "31/31 [==============================] - 24s 780ms/step - loss: 6.7574 - accuracy: 0.0672 - val_loss: 6.8326 - val_accuracy: 0.0590 - lr: 0.0058\n",
      "Epoch 48/100\n",
      "31/31 [==============================] - 24s 778ms/step - loss: 6.7603 - accuracy: 0.0672 - val_loss: 6.8244 - val_accuracy: 0.0590 - lr: 0.0058\n",
      "Epoch 49/100\n",
      "31/31 [==============================] - 24s 774ms/step - loss: 6.7609 - accuracy: 0.0672 - val_loss: 6.8459 - val_accuracy: 0.0590 - lr: 0.0058\n",
      "Epoch 50/100\n",
      "31/31 [==============================] - 24s 778ms/step - loss: 6.7622 - accuracy: 0.0672 - val_loss: 6.8323 - val_accuracy: 0.0590 - lr: 0.0058\n",
      "Epoch 51/100\n",
      "31/31 [==============================] - ETA: 0s - loss: 6.7660 - accuracy: 0.0672\n",
      "Epoch 51: ReduceLROnPlateau reducing learning rate to 0.005679762279614806.\n",
      "31/31 [==============================] - 24s 780ms/step - loss: 6.7660 - accuracy: 0.0672 - val_loss: 6.8363 - val_accuracy: 0.0590 - lr: 0.0058\n",
      "Epoch 52/100\n",
      "31/31 [==============================] - 24s 781ms/step - loss: 6.7578 - accuracy: 0.0672 - val_loss: 6.8339 - val_accuracy: 0.0590 - lr: 0.0057\n",
      "Epoch 53/100\n",
      "31/31 [==============================] - 24s 781ms/step - loss: 6.7552 - accuracy: 0.0672 - val_loss: 6.8212 - val_accuracy: 0.0590 - lr: 0.0057\n",
      "Epoch 54/100\n",
      "31/31 [==============================] - 24s 780ms/step - loss: 6.7607 - accuracy: 0.0672 - val_loss: 6.8326 - val_accuracy: 0.0590 - lr: 0.0057\n",
      "Epoch 55/100\n",
      "31/31 [==============================] - 24s 772ms/step - loss: 6.7550 - accuracy: 0.0672 - val_loss: 6.8494 - val_accuracy: 0.0590 - lr: 0.0057\n",
      "Epoch 56/100\n",
      "31/31 [==============================] - ETA: 0s - loss: 6.7564 - accuracy: 0.0672\n",
      "Epoch 56: ReduceLROnPlateau reducing learning rate to 0.005566167207434774.\n",
      "31/31 [==============================] - 24s 771ms/step - loss: 6.7564 - accuracy: 0.0672 - val_loss: 6.8645 - val_accuracy: 0.0590 - lr: 0.0057\n",
      "Epoch 57/100\n",
      "31/31 [==============================] - 24s 779ms/step - loss: 6.7595 - accuracy: 0.0672 - val_loss: 6.8252 - val_accuracy: 0.0590 - lr: 0.0056\n",
      "Epoch 58/100\n",
      "31/31 [==============================] - 24s 780ms/step - loss: 6.7582 - accuracy: 0.0672 - val_loss: 6.8278 - val_accuracy: 0.0590 - lr: 0.0056\n",
      "Epoch 59/100\n",
      "31/31 [==============================] - 24s 780ms/step - loss: 6.7565 - accuracy: 0.0672 - val_loss: 6.8390 - val_accuracy: 0.0590 - lr: 0.0056\n",
      "Epoch 60/100\n",
      "31/31 [==============================] - 24s 772ms/step - loss: 6.7496 - accuracy: 0.0672 - val_loss: 6.8284 - val_accuracy: 0.0590 - lr: 0.0056\n",
      "Epoch 61/100\n",
      "31/31 [==============================] - ETA: 0s - loss: 6.7573 - accuracy: 0.0672\n",
      "Epoch 61: ReduceLROnPlateau reducing learning rate to 0.005454843835905194.\n",
      "31/31 [==============================] - 24s 772ms/step - loss: 6.7573 - accuracy: 0.0672 - val_loss: 6.8444 - val_accuracy: 0.0590 - lr: 0.0056\n",
      "Epoch 62/100\n",
      "31/31 [==============================] - 24s 772ms/step - loss: 6.7569 - accuracy: 0.0672 - val_loss: 6.8397 - val_accuracy: 0.0590 - lr: 0.0055\n",
      "Epoch 63/100\n",
      "31/31 [==============================] - 24s 776ms/step - loss: 6.7546 - accuracy: 0.0672 - val_loss: 6.8254 - val_accuracy: 0.0590 - lr: 0.0055\n",
      "Epoch 64/100\n",
      "31/31 [==============================] - 24s 778ms/step - loss: 6.7561 - accuracy: 0.0672 - val_loss: 6.8272 - val_accuracy: 0.0590 - lr: 0.0055\n",
      "Epoch 65/100\n",
      "31/31 [==============================] - 24s 778ms/step - loss: 6.7576 - accuracy: 0.0672 - val_loss: 6.8369 - val_accuracy: 0.0590 - lr: 0.0055\n",
      "Epoch 66/100\n",
      "31/31 [==============================] - ETA: 0s - loss: 6.7557 - accuracy: 0.0672\n",
      "Epoch 66: ReduceLROnPlateau reducing learning rate to 0.005345746986567974.\n",
      "31/31 [==============================] - 24s 773ms/step - loss: 6.7557 - accuracy: 0.0672 - val_loss: 6.8445 - val_accuracy: 0.0590 - lr: 0.0055\n",
      "Epoch 67/100\n",
      "31/31 [==============================] - 24s 778ms/step - loss: 6.7547 - accuracy: 0.0672 - val_loss: 6.8240 - val_accuracy: 0.0590 - lr: 0.0053\n",
      "Epoch 68/100\n",
      "31/31 [==============================] - 24s 780ms/step - loss: 6.7571 - accuracy: 0.0672 - val_loss: 6.8436 - val_accuracy: 0.0590 - lr: 0.0053\n",
      "Epoch 69/100\n",
      "31/31 [==============================] - 24s 781ms/step - loss: 6.7528 - accuracy: 0.0672 - val_loss: 6.8456 - val_accuracy: 0.0590 - lr: 0.0053\n",
      "Epoch 70/100\n",
      "31/31 [==============================] - 24s 781ms/step - loss: 6.7571 - accuracy: 0.0672 - val_loss: 6.8288 - val_accuracy: 0.0590 - lr: 0.0053\n",
      "Epoch 71/100\n",
      "31/31 [==============================] - ETA: 0s - loss: 6.7588 - accuracy: 0.0672\n",
      "Epoch 71: ReduceLROnPlateau reducing learning rate to 0.00523883193731308.\n",
      "31/31 [==============================] - 24s 780ms/step - loss: 6.7588 - accuracy: 0.0672 - val_loss: 6.8300 - val_accuracy: 0.0590 - lr: 0.0053\n",
      "Epoch 72/100\n",
      "31/31 [==============================] - 24s 780ms/step - loss: 6.7515 - accuracy: 0.0672 - val_loss: 6.8472 - val_accuracy: 0.0590 - lr: 0.0052\n",
      "Epoch 73/100\n",
      "31/31 [==============================] - 24s 780ms/step - loss: 6.7520 - accuracy: 0.0672 - val_loss: 6.8535 - val_accuracy: 0.0590 - lr: 0.0052\n",
      "Epoch 74/100\n",
      "31/31 [==============================] - 24s 780ms/step - loss: 6.7586 - accuracy: 0.0672 - val_loss: 6.8370 - val_accuracy: 0.0590 - lr: 0.0052\n",
      "Epoch 75/100\n",
      "31/31 [==============================] - 24s 779ms/step - loss: 6.7570 - accuracy: 0.0672 - val_loss: 6.8286 - val_accuracy: 0.0590 - lr: 0.0052\n",
      "Epoch 76/100\n",
      "31/31 [==============================] - ETA: 0s - loss: 6.7528 - accuracy: 0.0672\n",
      "Epoch 76: ReduceLROnPlateau reducing learning rate to 0.005134055335074663.\n",
      "31/31 [==============================] - 24s 779ms/step - loss: 6.7528 - accuracy: 0.0672 - val_loss: 6.8273 - val_accuracy: 0.0590 - lr: 0.0052\n",
      "Epoch 77/100\n",
      "31/31 [==============================] - 24s 779ms/step - loss: 6.7551 - accuracy: 0.0672 - val_loss: 6.8540 - val_accuracy: 0.0590 - lr: 0.0051\n",
      "Epoch 78/100\n",
      "31/31 [==============================] - 24s 780ms/step - loss: 6.7568 - accuracy: 0.0672 - val_loss: 6.8423 - val_accuracy: 0.0590 - lr: 0.0051\n",
      "Epoch 79/100\n",
      "31/31 [==============================] - 24s 779ms/step - loss: 6.7549 - accuracy: 0.0672 - val_loss: 6.8211 - val_accuracy: 0.0590 - lr: 0.0051\n",
      "Epoch 80/100\n",
      "31/31 [==============================] - 24s 779ms/step - loss: 6.7538 - accuracy: 0.0672 - val_loss: 6.8332 - val_accuracy: 0.0590 - lr: 0.0051\n",
      "Epoch 81/100\n",
      "31/31 [==============================] - ETA: 0s - loss: 6.7531 - accuracy: 0.0672\n",
      "Epoch 81: ReduceLROnPlateau reducing learning rate to 0.005031374283134937.\n",
      "31/31 [==============================] - 24s 773ms/step - loss: 6.7531 - accuracy: 0.0672 - val_loss: 6.8219 - val_accuracy: 0.0590 - lr: 0.0051\n",
      "Epoch 82/100\n",
      "31/31 [==============================] - 24s 778ms/step - loss: 6.7541 - accuracy: 0.0672 - val_loss: 6.8488 - val_accuracy: 0.0590 - lr: 0.0050\n",
      "Epoch 83/100\n",
      "31/31 [==============================] - 24s 780ms/step - loss: 6.7538 - accuracy: 0.0672 - val_loss: 6.8277 - val_accuracy: 0.0590 - lr: 0.0050\n",
      "Epoch 84/100\n",
      "31/31 [==============================] - 24s 780ms/step - loss: 6.7574 - accuracy: 0.0672 - val_loss: 6.8260 - val_accuracy: 0.0590 - lr: 0.0050\n",
      "Epoch 85/100\n",
      "31/31 [==============================] - 24s 780ms/step - loss: 6.7542 - accuracy: 0.0672 - val_loss: 6.8261 - val_accuracy: 0.0590 - lr: 0.0050\n",
      "Epoch 86/100\n",
      "31/31 [==============================] - ETA: 0s - loss: 6.7549 - accuracy: 0.0672\n",
      "Epoch 86: ReduceLROnPlateau reducing learning rate to 0.004930746797472238.\n",
      "31/31 [==============================] - 24s 780ms/step - loss: 6.7549 - accuracy: 0.0672 - val_loss: 6.8528 - val_accuracy: 0.0590 - lr: 0.0050\n",
      "Epoch 87/100\n",
      "31/31 [==============================] - 24s 780ms/step - loss: 6.7504 - accuracy: 0.0672 - val_loss: 6.8330 - val_accuracy: 0.0590 - lr: 0.0049\n",
      "Epoch 88/100\n",
      "31/31 [==============================] - 24s 780ms/step - loss: 6.7552 - accuracy: 0.0672 - val_loss: 6.8154 - val_accuracy: 0.0590 - lr: 0.0049\n",
      "Epoch 89/100\n",
      "31/31 [==============================] - 24s 781ms/step - loss: 6.7519 - accuracy: 0.0672 - val_loss: 6.8162 - val_accuracy: 0.0590 - lr: 0.0049\n",
      "Epoch 90/100\n",
      "31/31 [==============================] - 24s 780ms/step - loss: 6.7493 - accuracy: 0.0672 - val_loss: 6.8285 - val_accuracy: 0.0590 - lr: 0.0049\n",
      "Epoch 91/100\n",
      "31/31 [==============================] - 24s 779ms/step - loss: 6.7519 - accuracy: 0.0672 - val_loss: 6.8244 - val_accuracy: 0.0590 - lr: 0.0049\n",
      "Epoch 92/100\n",
      "31/31 [==============================] - 24s 773ms/step - loss: 6.7537 - accuracy: 0.0672 - val_loss: 6.8285 - val_accuracy: 0.0590 - lr: 0.0049\n",
      "Epoch 93/100\n",
      "31/31 [==============================] - ETA: 0s - loss: 6.7543 - accuracy: 0.0672\n",
      "Epoch 93: ReduceLROnPlateau reducing learning rate to 0.004832131806761026.\n",
      "31/31 [==============================] - 24s 778ms/step - loss: 6.7543 - accuracy: 0.0672 - val_loss: 6.8340 - val_accuracy: 0.0590 - lr: 0.0049\n",
      "Epoch 94/100\n",
      "31/31 [==============================] - 24s 780ms/step - loss: 6.7538 - accuracy: 0.0672 - val_loss: 6.8215 - val_accuracy: 0.0590 - lr: 0.0048\n",
      "Epoch 95/100\n",
      "31/31 [==============================] - 24s 780ms/step - loss: 6.7530 - accuracy: 0.0672 - val_loss: 6.8329 - val_accuracy: 0.0590 - lr: 0.0048\n",
      "Epoch 96/100\n",
      "31/31 [==============================] - 24s 779ms/step - loss: 6.7512 - accuracy: 0.0672 - val_loss: 6.8133 - val_accuracy: 0.0590 - lr: 0.0048\n",
      "Epoch 97/100\n",
      "31/31 [==============================] - 24s 773ms/step - loss: 6.7533 - accuracy: 0.0672 - val_loss: 6.8346 - val_accuracy: 0.0590 - lr: 0.0048\n",
      "Epoch 98/100\n",
      "31/31 [==============================] - 24s 777ms/step - loss: 6.7571 - accuracy: 0.0672 - val_loss: 6.8398 - val_accuracy: 0.0590 - lr: 0.0048\n",
      "Epoch 99/100\n",
      "31/31 [==============================] - 24s 773ms/step - loss: 6.7555 - accuracy: 0.0672 - val_loss: 6.8315 - val_accuracy: 0.0590 - lr: 0.0048\n",
      "Epoch 100/100\n",
      "31/31 [==============================] - 24s 778ms/step - loss: 6.7514 - accuracy: 0.0672 - val_loss: 6.8309 - val_accuracy: 0.0590 - lr: 0.0048\n"
     ]
    }
   ],
   "source": [
    "NUM_EPOCHS = 100\n",
    "\n",
    "# train the model\n",
    "history = poet_model.fit(\n",
    "    train_set,\n",
    "    validation_data=val_set,\n",
    "    epochs=NUM_EPOCHS,\n",
    "    batch_size=BATCH_SIZE,\n",
    "    # steps_per_epoch=STEP_PER_EPOCH,\n",
    "    # validation_steps=STEP_PER_VAL,\n",
    "    callbacks=CALLBACKS,\n",
    "    verbose=1\n",
    ")\n",
    "    "
   ]
  },
  {
   "cell_type": "code",
   "execution_count": 45,
   "metadata": {
    "execution": {
     "iopub.execute_input": "2022-12-12T05:57:30.727109Z",
     "iopub.status.busy": "2022-12-12T05:57:30.726857Z",
     "iopub.status.idle": "2022-12-12T05:57:30.731429Z",
     "shell.execute_reply": "2022-12-12T05:57:30.730857Z",
     "shell.execute_reply.started": "2022-12-12T05:57:30.727091Z"
    }
   },
   "outputs": [],
   "source": [
    "# plot the training history\n",
    "def plot_results(history, epochs=NUM_EPOCHS):\n",
    "    '''\n",
    "        This function plots the training history\n",
    "        input:\n",
    "            - history: the training history\n",
    "        output:\n",
    "            - None\n",
    "    '''\n",
    "    plt.style.use('ggplot')\n",
    "    plt.figure()\n",
    "    plt.plot(np.arange(0, epochs), history['loss'], label = 'train_loss')\n",
    "    plt.plot(np.arange(0, epochs), history['val_loss'], label = 'val_loss')\n",
    "    # plt.plot(np.arange(0, epochs), history['accuracy'], label = 'train_acc')\n",
    "    # plt.plot(np.arange(0, epochs), history['val_accuracy'], label = 'val_acc')\n",
    "        \n",
    "    # add labels and legend\n",
    "    plt.title('Training Loss and Accuracy')\n",
    "    plt.xlabel('Epoch #')\n",
    "    plt.ylabel('Loss/Accuracy')\n",
    "    plt.legend()\n"
   ]
  },
  {
   "cell_type": "code",
   "execution_count": 46,
   "metadata": {
    "execution": {
     "iopub.execute_input": "2022-12-12T05:57:31.930779Z",
     "iopub.status.busy": "2022-12-12T05:57:31.930117Z",
     "iopub.status.idle": "2022-12-12T05:57:32.025604Z",
     "shell.execute_reply": "2022-12-12T05:57:32.024975Z",
     "shell.execute_reply.started": "2022-12-12T05:57:31.930757Z"
    }
   },
   "outputs": [
    {
     "data": {
      "image/png": "[encoded data removed]",
      "text/plain": [
       "<Figure size 432x288 with 1 Axes>"
      ]
     },
     "metadata": {},
     "output_type": "display_data"
    }
   ],
   "source": [
    "# plot the training history\n",
    "plot_results(history.history)"
   ]
  },
  {
   "cell_type": "code",
   "execution_count": 47,
   "metadata": {
    "execution": {
     "iopub.execute_input": "2022-12-12T05:58:10.778576Z",
     "iopub.status.busy": "2022-12-12T05:58:10.778302Z",
     "iopub.status.idle": "2022-12-12T05:58:16.955336Z",
     "shell.execute_reply": "2022-12-12T05:58:16.954672Z",
     "shell.execute_reply.started": "2022-12-12T05:58:10.778556Z"
    }
   },
   "outputs": [],
   "source": [
    "model_path = f\"./models/poet/poet\"\n",
    "poet_model.save_weights(model_path)"
   ]
  },
  {
   "cell_type": "markdown",
   "metadata": {},
   "source": [
    "#### Evaluating the model (on and off metrics)\n"
   ]
  },
  {
   "cell_type": "code",
   "execution_count": 48,
   "metadata": {
    "execution": {
     "iopub.execute_input": "2022-12-12T05:58:16.956790Z",
     "iopub.status.busy": "2022-12-12T05:58:16.956591Z",
     "iopub.status.idle": "2022-12-12T05:58:16.960064Z",
     "shell.execute_reply": "2022-12-12T05:58:16.959490Z",
     "shell.execute_reply.started": "2022-12-12T05:58:16.956774Z"
    }
   },
   "outputs": [],
   "source": [
    "def load_model(model, model_path):\n",
    "    '''\n",
    "        This function loads a model\n",
    "        input:\n",
    "            - model_path: the model path\n",
    "        output:\n",
    "            - model: the model\n",
    "    '''\n",
    "    # load the model from tf format\n",
    "    model.load_weights(model_path)\n",
    "    # return the model\n",
    "    return model"
   ]
  },
  {
   "cell_type": "code",
   "execution_count": 49,
   "metadata": {
    "execution": {
     "iopub.execute_input": "2022-12-12T05:58:19.280226Z",
     "iopub.status.busy": "2022-12-12T05:58:19.279974Z",
     "iopub.status.idle": "2022-12-12T05:58:21.780489Z",
     "shell.execute_reply": "2022-12-12T05:58:21.779948Z",
     "shell.execute_reply.started": "2022-12-12T05:58:19.280208Z"
    }
   },
   "outputs": [],
   "source": [
    "# load the model\n",
    "model_path = f\"./models/poet/poet\"\n",
    "poet_model = load_model(poet_model, model_path)"
   ]
  },
  {
   "cell_type": "code",
   "execution_count": 50,
   "metadata": {
    "execution": {
     "iopub.execute_input": "2022-12-12T05:58:22.937090Z",
     "iopub.status.busy": "2022-12-12T05:58:22.936804Z",
     "iopub.status.idle": "2022-12-12T05:58:24.234515Z",
     "shell.execute_reply": "2022-12-12T05:58:24.233809Z",
     "shell.execute_reply.started": "2022-12-12T05:58:22.937069Z"
    }
   },
   "outputs": [
    {
     "name": "stdout",
     "output_type": "stream",
     "text": [
      "5/5 [==============================] - 1s 243ms/step - loss: 6.8327 - accuracy: 0.0677\n",
      "Loss: 6.832661151885986, Accuracy: 0.0677274838089943\n",
      "Perplexity: 927.6561279296875\n"
     ]
    }
   ],
   "source": [
    "# evaluate the model\n",
    "loss, accuracy = poet_model.evaluate(test_set, batch_size=BATCH_SIZE, verbose=1)\n",
    "print(f'Loss: {loss}, Accuracy: {accuracy}')\n",
    "# compute the perplexity\n",
    "perplexity = tf.math.exp(loss).numpy()\n",
    "print(f'Perplexity: {perplexity}')"
   ]
  },
  {
   "cell_type": "code",
   "execution_count": 51,
   "metadata": {
    "execution": {
     "iopub.execute_input": "2022-12-12T05:58:27.319310Z",
     "iopub.status.busy": "2022-12-12T05:58:27.319060Z",
     "iopub.status.idle": "2022-12-12T05:58:27.323991Z",
     "shell.execute_reply": "2022-12-12T05:58:27.323265Z",
     "shell.execute_reply.started": "2022-12-12T05:58:27.319291Z"
    }
   },
   "outputs": [],
   "source": [
    "def generate_text(model, text, tokenizer=Tokenizer, min_words=20, greedy=False):\n",
    "    '''\n",
    "        This function generates text greedily by top predictions\n",
    "        input:\n",
    "            - model: the model\n",
    "            - text: the text to generate from\n",
    "            - min_words: the minimum number of words to generate\n",
    "            - greedy: whether to use greedy or not\n",
    "        output:\n",
    "            - generated_text: the generated text\n",
    "    '''\n",
    "\n",
    "    # print the text\n",
    "    print(f'Input text: {text}')\n",
    "    # tokenize the text\n",
    "    input_ids = tokenizer.encode(text, return_tensors='tf')\n",
    "    # pass the input ids to the model\n",
    "    output = model.generate(input_ids, min_length=min_words, max_length=20, top_k=50, top_p=0.95, do_sample=not greedy)\n",
    "    # decode the output\n",
    "    generated_text = tokenizer.decode(output[0], skip_special_tokens=True)\n",
    "    # print the generated text\n",
    "    print(f'Generated text: {generated_text}')\n",
    "    # return the generated text\n",
    "    return generated_text"
   ]
  },
  {
   "cell_type": "code",
   "execution_count": 62,
   "metadata": {
    "execution": {
     "iopub.execute_input": "2022-12-12T06:00:51.788043Z",
     "iopub.status.busy": "2022-12-12T06:00:51.787760Z",
     "iopub.status.idle": "2022-12-12T06:00:53.452280Z",
     "shell.execute_reply": "2022-12-12T06:00:53.451763Z",
     "shell.execute_reply.started": "2022-12-12T06:00:51.788023Z"
    }
   },
   "outputs": [
    {
     "name": "stdout",
     "output_type": "stream",
     "text": [
      "Input text: Go and catch a fallng star, Get \n",
      "Generated text: Go and catch a fallng star, Get gh wh, the a, the l n\n"
     ]
    },
    {
     "data": {
      "text/plain": [
       "'Go and catch a fallng star, Get gh wh, the a, the l n'"
      ]
     },
     "execution_count": 62,
     "metadata": {},
     "output_type": "execute_result"
    }
   ],
   "source": [
    "# generate text\n",
    "text = 'Go and catch a fallng star, Get '\n",
    "generate_text(poet_model, text, Tokenizer)"
   ]
  }
 ],
 "metadata": {
  "kernelspec": {
   "display_name": "Python 3 (ipykernel)",
   "language": "python",
   "name": "python3"
  },
  "language_info": {
   "codemirror_mode": {
    "name": "ipython",
    "version": 3
   },
   "file_extension": ".py",
   "mimetype": "text/x-python",
   "name": "python",
   "nbconvert_exporter": "python",
   "pygments_lexer": "ipython3",
   "version": "3.9.13"
  },
  "vscode": {
   "interpreter": {
    "hash": "6b2dfa36097f9487526901540832d55814665bd7ac5a80e862828915e7a7a9f7"
   }
  }
 },
 "nbformat": 4,
 "nbformat_minor": 4
}
