{
 "cells": [
  {
   "attachments": {},
   "cell_type": "markdown",
   "metadata": {},
   "source": [
    "#### Convert all the rap lyrics text files into one csv file "
   ]
  },
  {
   "cell_type": "code",
   "execution_count": 10,
   "metadata": {},
   "outputs": [],
   "source": [
    "import os\n",
    "import csv \n",
    "import json\n",
    "import pandas as pd"
   ]
  },
  {
   "cell_type": "code",
   "execution_count": 17,
   "metadata": {},
   "outputs": [],
   "source": [
    "def write_lyrics_json(lyrics_dir, json_path):\n",
    "    ''' \n",
    "        Get the lyrics from the text files in the path \n",
    "        and write them to a json file where filename is the key and\n",
    "        the lyrics are the value.\n",
    "        - Input: lyrics_dir: path to the lyrics directory\n",
    "                json_path: path to the json file to write to\n",
    "        - Output: None\n",
    "    '''\n",
    "    # open json file in write mode\n",
    "    with open(json_path, 'w') as f:\n",
    "        # iterate through the files in the lyrics directory\n",
    "        for filename in os.listdir(lyrics_dir):\n",
    "            # get the path to the file\n",
    "            path = os.path.join(lyrics_dir, filename)\n",
    "            # open the file in read mode\n",
    "            with open(path, 'r', encoding='utf-8') as f1:\n",
    "                # remove \"_lyrics.txt\" from the filename\n",
    "                name = filename[:-11]\n",
    "                # convert dash and space to underscore\n",
    "                name = name.replace('-', '_').replace(' ', '_')\n",
    "                # uppercase the first letter\n",
    "                name = name[0].upper() + name[1:]\n",
    "                # uppercase the first letter of each word in the name\n",
    "                name = ' '.join([word[0].upper() + word[1:] for word in name.split('_')])\n",
    "                # reading paragraphs from the file separated by\n",
    "                # at least 2 newlines\n",
    "                paragraphs = f1.read().split('\\n\\n')\n",
    "                for paragraph in paragraphs:\n",
    "                    # remove trailing and leading spaces and newlines\n",
    "                    paragraph = paragraph.strip(' \\n')\n",
    "                    # write the paragraph to the json file\n",
    "                    f.write(json.dumps({name: paragraph}) + '\\n')\n",
    "\n",
    "                    \n",
    "                \n",
    "\n"
   ]
  },
  {
   "cell_type": "code",
   "execution_count": 16,
   "metadata": {},
   "outputs": [
    {
     "ename": "IndexError",
     "evalue": "string index out of range",
     "output_type": "error",
     "traceback": [
      "\u001b[1;31m---------------------------------------------------------------------------\u001b[0m",
      "\u001b[1;31mIndexError\u001b[0m                                Traceback (most recent call last)",
      "\u001b[1;32mc:\\Users\\the_3\\OneDrive\\Desktop\\school\\fall 2022\\neural networks class\\projects\\rap-poetry-nlp\\conv_lyrics.ipynb Cell 4\u001b[0m in \u001b[0;36m<cell line: 3>\u001b[1;34m()\u001b[0m\n\u001b[0;32m      <a href='vscode-notebook-cell:/c%3A/Users/the_3/OneDrive/Desktop/school/fall%202022/neural%20networks%20class/projects/rap-poetry-nlp/conv_lyrics.ipynb#W6sZmlsZQ%3D%3D?line=0'>1</a>\u001b[0m json_path \u001b[39m=\u001b[39m \u001b[39m\"\u001b[39m\u001b[39m./data/lyrics.json\u001b[39m\u001b[39m\"\u001b[39m\n\u001b[0;32m      <a href='vscode-notebook-cell:/c%3A/Users/the_3/OneDrive/Desktop/school/fall%202022/neural%20networks%20class/projects/rap-poetry-nlp/conv_lyrics.ipynb#W6sZmlsZQ%3D%3D?line=1'>2</a>\u001b[0m lyrics_path \u001b[39m=\u001b[39m \u001b[39m\"\u001b[39m\u001b[39m./data/lyrics\u001b[39m\u001b[39m\"\u001b[39m\n\u001b[1;32m----> <a href='vscode-notebook-cell:/c%3A/Users/the_3/OneDrive/Desktop/school/fall%202022/neural%20networks%20class/projects/rap-poetry-nlp/conv_lyrics.ipynb#W6sZmlsZQ%3D%3D?line=2'>3</a>\u001b[0m write_lyrics_json(lyrics_path, json_path)\n",
      "\u001b[1;32mc:\\Users\\the_3\\OneDrive\\Desktop\\school\\fall 2022\\neural networks class\\projects\\rap-poetry-nlp\\conv_lyrics.ipynb Cell 4\u001b[0m in \u001b[0;36mwrite_lyrics_json\u001b[1;34m(lyrics_dir, json_path)\u001b[0m\n\u001b[0;32m     <a href='vscode-notebook-cell:/c%3A/Users/the_3/OneDrive/Desktop/school/fall%202022/neural%20networks%20class/projects/rap-poetry-nlp/conv_lyrics.ipynb#W6sZmlsZQ%3D%3D?line=20'>21</a>\u001b[0m name \u001b[39m=\u001b[39m name\u001b[39m.\u001b[39mreplace(\u001b[39m'\u001b[39m\u001b[39m \u001b[39m\u001b[39m'\u001b[39m, \u001b[39m'\u001b[39m\u001b[39m_\u001b[39m\u001b[39m'\u001b[39m)\n\u001b[0;32m     <a href='vscode-notebook-cell:/c%3A/Users/the_3/OneDrive/Desktop/school/fall%202022/neural%20networks%20class/projects/rap-poetry-nlp/conv_lyrics.ipynb#W6sZmlsZQ%3D%3D?line=21'>22</a>\u001b[0m \u001b[39m# uppercase the first letter\u001b[39;00m\n\u001b[1;32m---> <a href='vscode-notebook-cell:/c%3A/Users/the_3/OneDrive/Desktop/school/fall%202022/neural%20networks%20class/projects/rap-poetry-nlp/conv_lyrics.ipynb#W6sZmlsZQ%3D%3D?line=22'>23</a>\u001b[0m name \u001b[39m=\u001b[39m name[\u001b[39m0\u001b[39;49m]\u001b[39m.\u001b[39mupper() \u001b[39m+\u001b[39m name[\u001b[39m1\u001b[39m:]\n\u001b[0;32m     <a href='vscode-notebook-cell:/c%3A/Users/the_3/OneDrive/Desktop/school/fall%202022/neural%20networks%20class/projects/rap-poetry-nlp/conv_lyrics.ipynb#W6sZmlsZQ%3D%3D?line=23'>24</a>\u001b[0m \u001b[39m# reading paragraphs from the file separated by\u001b[39;00m\n\u001b[0;32m     <a href='vscode-notebook-cell:/c%3A/Users/the_3/OneDrive/Desktop/school/fall%202022/neural%20networks%20class/projects/rap-poetry-nlp/conv_lyrics.ipynb#W6sZmlsZQ%3D%3D?line=24'>25</a>\u001b[0m \u001b[39m# at least 2 newlines\u001b[39;00m\n\u001b[0;32m     <a href='vscode-notebook-cell:/c%3A/Users/the_3/OneDrive/Desktop/school/fall%202022/neural%20networks%20class/projects/rap-poetry-nlp/conv_lyrics.ipynb#W6sZmlsZQ%3D%3D?line=25'>26</a>\u001b[0m paragraphs \u001b[39m=\u001b[39m f1\u001b[39m.\u001b[39mread()\u001b[39m.\u001b[39msplit(\u001b[39m'\u001b[39m\u001b[39m\\n\u001b[39;00m\u001b[39m\\n\u001b[39;00m\u001b[39m'\u001b[39m)\n",
      "\u001b[1;31mIndexError\u001b[0m: string index out of range"
     ]
    }
   ],
   "source": [
    "json_path = \"./data/lyrics.json\"\n",
    "lyrics_path = \"./data/lyrics\"\n",
    "write_lyrics_json(lyrics_path, json_path)"
   ]
  }
 ],
 "metadata": {
  "kernelspec": {
   "display_name": "tf-gpu",
   "language": "python",
   "name": "python3"
  },
  "language_info": {
   "codemirror_mode": {
    "name": "ipython",
    "version": 3
   },
   "file_extension": ".py",
   "mimetype": "text/x-python",
   "name": "python",
   "nbconvert_exporter": "python",
   "pygments_lexer": "ipython3",
   "version": "3.9.12"
  },
  "orig_nbformat": 4,
  "vscode": {
   "interpreter": {
    "hash": "6b2dfa36097f9487526901540832d55814665bd7ac5a80e862828915e7a7a9f7"
   }
  }
 },
 "nbformat": 4,
 "nbformat_minor": 2
}
