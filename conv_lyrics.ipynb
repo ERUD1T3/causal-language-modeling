{
 "cells": [
  {
   "attachments": {},
   "cell_type": "markdown",
   "metadata": {},
   "source": [
    "#### Convert all the rap lyrics text files into one csv file "
   ]
  },
  {
   "cell_type": "code",
   "execution_count": 9,
   "metadata": {},
   "outputs": [],
   "source": [
    "import os\n",
    "import csv \n",
    "import json\n",
    "import pandas as pd"
   ]
  },
  {
   "cell_type": "code",
   "execution_count": 10,
   "metadata": {},
   "outputs": [],
   "source": [
    "def write_lyrics_json(lyrics_dir, json_path):\n",
    "    ''' \n",
    "        Get the lyrics from the text files in the path \n",
    "        and write them to a json file where filename is the key and\n",
    "        the lyrics are the value.\n",
    "        - Input: lyrics_dir: path to the lyrics directory\n",
    "                json_path: path to the json file to write to\n",
    "        - Output: None\n",
    "    '''\n",
    "    # define safe characters\n",
    "    safe_chars = 'abcdefghijklmnopqrstuvwxyz\\\n",
    "        ABCDEFGHIJKLMNOPQRSTUVWXYZ0123456789 \\\n",
    "        (),.;:?\\\"\\'\\n'\n",
    "\n",
    "    # open json file in write mode\n",
    "    with open(json_path, 'w') as f:\n",
    "        # iterate through the files in the lyrics directory\n",
    "        for filename in os.listdir(lyrics_dir):\n",
    "            # get the path to the file\n",
    "            path = os.path.join(lyrics_dir, filename)\n",
    "            # open the file in read mode\n",
    "            with open(path, 'r', encoding='utf-8') as f1:\n",
    "                # remove \"_lyrics.txt\" from the filename\n",
    "                name = filename[:-11]\n",
    "                # convert dash and space to underscore\n",
    "                name = name.replace('-', '_').replace(' ', '_')\n",
    "                # uppercase the first letter\n",
    "                name = name[0].upper() + name[1:]\n",
    "                # uppercase the first letter of each word in the name\n",
    "                name = '_'.join([word[0].upper() + word[1:] for word in name.split('_')])\n",
    "                # reading paragraphs from the file separated by\n",
    "                # at least 2 newlines\n",
    "                paragraphs = f1.read().split('\\n\\n')\n",
    "                for paragraph in paragraphs:\n",
    "                    # remove trailing and leading spaces and newlines\n",
    "                    paragraph = paragraph.strip(' \\n')\n",
    "                    # remove all characters that are not in safe_chars\n",
    "                    paragraph = ''.join([c for c in paragraph if c in safe_chars])\n",
    "                    # skip empty paragraphs or single word paragraphs\n",
    "                    if len(paragraph) < 2:\n",
    "                        continue\n",
    "                    # write the paragraph to the json file\n",
    "                    # f.write(json.dumps({name: paragraph}) + '\\n')\n",
    "                    f.write(json.dumps({'author': name, 'content': paragraph}) + '\\n')\n",
    "\n",
    "                    \n",
    "                \n",
    "\n"
   ]
  },
  {
   "cell_type": "code",
   "execution_count": 11,
   "metadata": {},
   "outputs": [],
   "source": [
    "json_path = \"./data/lyrics.json\"\n",
    "lyrics_path = \"./data/junk/lyrics\"\n",
    "write_lyrics_json(lyrics_path, json_path)"
   ]
  },
  {
   "cell_type": "code",
   "execution_count": 12,
   "metadata": {},
   "outputs": [],
   "source": [
    "def from_csv_to_json(csv_path, json_path):\n",
    "    '''\n",
    "        Read the csv file, get the author and the content of the poem\n",
    "        and write them to a json file where author is the key and\n",
    "        the content is the value.\n",
    "        - Input: csv_path: path to the csv file\n",
    "                json_path: path to the json file\n",
    "        - Output: None\n",
    "    '''\n",
    "     # define safe characters\n",
    "    safe_chars = 'abcdefghijklmnopqrstuvwxyz\\\n",
    "        ABCDEFGHIJKLMNOPQRSTUVWXYZ0123456789 \\\n",
    "        (),.;:?\\\"\\'\\n'\n",
    "\n",
    "\n",
    "    # read the csv file\n",
    "    df = pd.read_csv(csv_path)\n",
    "    # open the json file in write mode\n",
    "    with open(json_path, 'w') as f:\n",
    "        # iterate through the rows of the dataframe\n",
    "        for index, row in df.iterrows():\n",
    "            # get the author\n",
    "            author = row['author']\n",
    "            # get name without title\n",
    "            author = author.split(',')[0]\n",
    "            # lowercase the author name\n",
    "            author = author.lower()\n",
    "            # remove trailing and leading spaces\n",
    "            author = author.strip(' ')\n",
    "            # convert dash and space to underscore\n",
    "            author = author.replace('-', '_').replace(' ', '_')\n",
    "            # uppercase the first letter\n",
    "            author = author[0].upper() + author[1:]\n",
    "            # camelcase the author name\n",
    "            author = '_'.join([word[0].upper() + word[1:] for word in author.split('_')])\n",
    "            # remove dots from the author name\n",
    "            author = author.replace('.', '')\n",
    "            # get the content\n",
    "            content = row['content']\n",
    "            # remove \\r from the content\n",
    "            content = content.replace('\\r', '')\n",
    "            # reading paragraphs from the file separated by\n",
    "            # at least 2 newlines\n",
    "            paragraphs = content.split('\\n\\n')\n",
    "            for paragraph in paragraphs:\n",
    "                 # remove extra punctuations\n",
    "                paragraph = paragraph.replace(' ,', ',').replace(' .', '.').replace(' ;', ';')\n",
    "                paragraph = paragraph.replace(' :', ':').replace(' ?', '?').replace(' !', '!')\n",
    "                paragraph = paragraph.replace(' \\'', '\\'').replace('\\' ', '\\'')\n",
    "                paragraph = paragraph.replace(' - ', '-').replace(' -', '-').replace('- ', '-')\n",
    "                paragraph = paragraph.replace(' (', '(').replace('( ', '(')\n",
    "                paragraph = paragraph.replace(' )', ')').replace(') ', ')')\n",
    "                paragraph = paragraph.replace(' / ', '/').replace(' /', '/').replace('/ ', '/')\n",
    "                \n",
    "                # replace & with and\n",
    "                paragraph = paragraph.replace('&', 'and')\n",
    "                # remove numbers and roman numerals\n",
    "                paragraph = ''.join([c for c in paragraph \n",
    "                    if not c.isdigit() and c.upper() not in ['I', 'V', 'X']])\n",
    "                # remove trailing and leading spaces and newlines\n",
    "                paragraph = paragraph.strip(' \\n')\n",
    "                # replace multiple spaces with a single space\n",
    "                paragraph = ' '.join(paragraph.split())\n",
    "                # remove all characters that are not in safe_chars\n",
    "                paragraph = ''.join([c for c in paragraph if c in safe_chars])\n",
    "                # skip empty paragraphs or single word paragraphs\n",
    "                if len(paragraph) < 2:\n",
    "                    continue\n",
    "                # write the paragraph to the json file\n",
    "                # f.write(json.dumps({author: paragraph}) + '\\n')\n",
    "                f.write(json.dumps({'author': author, 'content': paragraph}) + '\\n')\n",
    "\n"
   ]
  },
  {
   "cell_type": "code",
   "execution_count": 13,
   "metadata": {},
   "outputs": [],
   "source": [
    "json_path = \"./data/poems.json\"\n",
    "csv_path = \"./data/junk/poetry/poetry.csv\"\n",
    "from_csv_to_json(csv_path, json_path)"
   ]
  }
 ],
 "metadata": {
  "kernelspec": {
   "display_name": "tf-gpu",
   "language": "python",
   "name": "python3"
  },
  "language_info": {
   "codemirror_mode": {
    "name": "ipython",
    "version": 3
   },
   "file_extension": ".py",
   "mimetype": "text/x-python",
   "name": "python",
   "nbconvert_exporter": "python",
   "pygments_lexer": "ipython3",
   "version": "3.9.12"
  },
  "orig_nbformat": 4,
  "vscode": {
   "interpreter": {
    "hash": "6b2dfa36097f9487526901540832d55814665bd7ac5a80e862828915e7a7a9f7"
   }
  }
 },
 "nbformat": 4,
 "nbformat_minor": 2
}
